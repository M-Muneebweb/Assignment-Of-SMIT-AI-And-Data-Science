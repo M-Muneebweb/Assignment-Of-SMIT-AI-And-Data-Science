{
 "cells": [
  {
   "cell_type": "markdown",
   "id": "87cd451c-93c5-45ba-9f3c-410ca25fa1dc",
   "metadata": {},
   "source": [
    "# Titanic Dataset Analysis Assignment\n"
   ]
  },
  {
   "cell_type": "markdown",
   "id": "2fb52583-b119-4191-a9b6-b5668fe5c5ed",
   "metadata": {},
   "source": [
    "## Part A – Data Exploration (Pandas & Numpy)"
   ]
  },
  {
   "cell_type": "code",
   "execution_count": 1,
   "id": "1fe822d9-5e3c-402f-acfe-ee3fd9451910",
   "metadata": {},
   "outputs": [],
   "source": [
    "import numpy as np\n",
    "import pandas as pd\n",
    "import matplotlib.pyplot as plt\n",
    "import seaborn as sns"
   ]
  },
  {
   "cell_type": "markdown",
   "id": "aefda79c-4cf2-45a6-8fbf-8e53fa964a24",
   "metadata": {},
   "source": [
    "### Load Dataset using Pandas"
   ]
  },
  {
   "cell_type": "code",
   "execution_count": 2,
   "id": "4e57b986-45df-4544-bfc8-982806eee803",
   "metadata": {},
   "outputs": [],
   "source": [
    "data = pd.read_csv('Titanic-Dataset.csv')"
   ]
  },
  {
   "cell_type": "markdown",
   "id": "291e8b8e-66cf-45af-98f7-cc13e7a8becc",
   "metadata": {},
   "source": [
    "### First 10 rows"
   ]
  },
  {
   "cell_type": "code",
   "execution_count": 3,
   "id": "d6890c76-df25-46e0-bcf6-d0d486e5e9e0",
   "metadata": {},
   "outputs": [
    {
     "data": {
      "text/html": [
       "<div>\n",
       "<style scoped>\n",
       "    .dataframe tbody tr th:only-of-type {\n",
       "        vertical-align: middle;\n",
       "    }\n",
       "\n",
       "    .dataframe tbody tr th {\n",
       "        vertical-align: top;\n",
       "    }\n",
       "\n",
       "    .dataframe thead th {\n",
       "        text-align: right;\n",
       "    }\n",
       "</style>\n",
       "<table border=\"1\" class=\"dataframe\">\n",
       "  <thead>\n",
       "    <tr style=\"text-align: right;\">\n",
       "      <th></th>\n",
       "      <th>PassengerId</th>\n",
       "      <th>Survived</th>\n",
       "      <th>Pclass</th>\n",
       "      <th>Name</th>\n",
       "      <th>Sex</th>\n",
       "      <th>Age</th>\n",
       "      <th>SibSp</th>\n",
       "      <th>Parch</th>\n",
       "      <th>Ticket</th>\n",
       "      <th>Fare</th>\n",
       "      <th>Cabin</th>\n",
       "      <th>Embarked</th>\n",
       "    </tr>\n",
       "  </thead>\n",
       "  <tbody>\n",
       "    <tr>\n",
       "      <th>0</th>\n",
       "      <td>1</td>\n",
       "      <td>0</td>\n",
       "      <td>3</td>\n",
       "      <td>Braund, Mr. Owen Harris</td>\n",
       "      <td>male</td>\n",
       "      <td>22.0</td>\n",
       "      <td>1</td>\n",
       "      <td>0</td>\n",
       "      <td>A/5 21171</td>\n",
       "      <td>7.2500</td>\n",
       "      <td>NaN</td>\n",
       "      <td>S</td>\n",
       "    </tr>\n",
       "    <tr>\n",
       "      <th>1</th>\n",
       "      <td>2</td>\n",
       "      <td>1</td>\n",
       "      <td>1</td>\n",
       "      <td>Cumings, Mrs. John Bradley (Florence Briggs Th...</td>\n",
       "      <td>female</td>\n",
       "      <td>38.0</td>\n",
       "      <td>1</td>\n",
       "      <td>0</td>\n",
       "      <td>PC 17599</td>\n",
       "      <td>71.2833</td>\n",
       "      <td>C85</td>\n",
       "      <td>C</td>\n",
       "    </tr>\n",
       "    <tr>\n",
       "      <th>2</th>\n",
       "      <td>3</td>\n",
       "      <td>1</td>\n",
       "      <td>3</td>\n",
       "      <td>Heikkinen, Miss. Laina</td>\n",
       "      <td>female</td>\n",
       "      <td>26.0</td>\n",
       "      <td>0</td>\n",
       "      <td>0</td>\n",
       "      <td>STON/O2. 3101282</td>\n",
       "      <td>7.9250</td>\n",
       "      <td>NaN</td>\n",
       "      <td>S</td>\n",
       "    </tr>\n",
       "    <tr>\n",
       "      <th>3</th>\n",
       "      <td>4</td>\n",
       "      <td>1</td>\n",
       "      <td>1</td>\n",
       "      <td>Futrelle, Mrs. Jacques Heath (Lily May Peel)</td>\n",
       "      <td>female</td>\n",
       "      <td>35.0</td>\n",
       "      <td>1</td>\n",
       "      <td>0</td>\n",
       "      <td>113803</td>\n",
       "      <td>53.1000</td>\n",
       "      <td>C123</td>\n",
       "      <td>S</td>\n",
       "    </tr>\n",
       "    <tr>\n",
       "      <th>4</th>\n",
       "      <td>5</td>\n",
       "      <td>0</td>\n",
       "      <td>3</td>\n",
       "      <td>Allen, Mr. William Henry</td>\n",
       "      <td>male</td>\n",
       "      <td>35.0</td>\n",
       "      <td>0</td>\n",
       "      <td>0</td>\n",
       "      <td>373450</td>\n",
       "      <td>8.0500</td>\n",
       "      <td>NaN</td>\n",
       "      <td>S</td>\n",
       "    </tr>\n",
       "    <tr>\n",
       "      <th>5</th>\n",
       "      <td>6</td>\n",
       "      <td>0</td>\n",
       "      <td>3</td>\n",
       "      <td>Moran, Mr. James</td>\n",
       "      <td>male</td>\n",
       "      <td>NaN</td>\n",
       "      <td>0</td>\n",
       "      <td>0</td>\n",
       "      <td>330877</td>\n",
       "      <td>8.4583</td>\n",
       "      <td>NaN</td>\n",
       "      <td>Q</td>\n",
       "    </tr>\n",
       "    <tr>\n",
       "      <th>6</th>\n",
       "      <td>7</td>\n",
       "      <td>0</td>\n",
       "      <td>1</td>\n",
       "      <td>McCarthy, Mr. Timothy J</td>\n",
       "      <td>male</td>\n",
       "      <td>54.0</td>\n",
       "      <td>0</td>\n",
       "      <td>0</td>\n",
       "      <td>17463</td>\n",
       "      <td>51.8625</td>\n",
       "      <td>E46</td>\n",
       "      <td>S</td>\n",
       "    </tr>\n",
       "    <tr>\n",
       "      <th>7</th>\n",
       "      <td>8</td>\n",
       "      <td>0</td>\n",
       "      <td>3</td>\n",
       "      <td>Palsson, Master. Gosta Leonard</td>\n",
       "      <td>male</td>\n",
       "      <td>2.0</td>\n",
       "      <td>3</td>\n",
       "      <td>1</td>\n",
       "      <td>349909</td>\n",
       "      <td>21.0750</td>\n",
       "      <td>NaN</td>\n",
       "      <td>S</td>\n",
       "    </tr>\n",
       "    <tr>\n",
       "      <th>8</th>\n",
       "      <td>9</td>\n",
       "      <td>1</td>\n",
       "      <td>3</td>\n",
       "      <td>Johnson, Mrs. Oscar W (Elisabeth Vilhelmina Berg)</td>\n",
       "      <td>female</td>\n",
       "      <td>27.0</td>\n",
       "      <td>0</td>\n",
       "      <td>2</td>\n",
       "      <td>347742</td>\n",
       "      <td>11.1333</td>\n",
       "      <td>NaN</td>\n",
       "      <td>S</td>\n",
       "    </tr>\n",
       "    <tr>\n",
       "      <th>9</th>\n",
       "      <td>10</td>\n",
       "      <td>1</td>\n",
       "      <td>2</td>\n",
       "      <td>Nasser, Mrs. Nicholas (Adele Achem)</td>\n",
       "      <td>female</td>\n",
       "      <td>14.0</td>\n",
       "      <td>1</td>\n",
       "      <td>0</td>\n",
       "      <td>237736</td>\n",
       "      <td>30.0708</td>\n",
       "      <td>NaN</td>\n",
       "      <td>C</td>\n",
       "    </tr>\n",
       "  </tbody>\n",
       "</table>\n",
       "</div>"
      ],
      "text/plain": [
       "   PassengerId  Survived  Pclass  \\\n",
       "0            1         0       3   \n",
       "1            2         1       1   \n",
       "2            3         1       3   \n",
       "3            4         1       1   \n",
       "4            5         0       3   \n",
       "5            6         0       3   \n",
       "6            7         0       1   \n",
       "7            8         0       3   \n",
       "8            9         1       3   \n",
       "9           10         1       2   \n",
       "\n",
       "                                                Name     Sex   Age  SibSp  \\\n",
       "0                            Braund, Mr. Owen Harris    male  22.0      1   \n",
       "1  Cumings, Mrs. John Bradley (Florence Briggs Th...  female  38.0      1   \n",
       "2                             Heikkinen, Miss. Laina  female  26.0      0   \n",
       "3       Futrelle, Mrs. Jacques Heath (Lily May Peel)  female  35.0      1   \n",
       "4                           Allen, Mr. William Henry    male  35.0      0   \n",
       "5                                   Moran, Mr. James    male   NaN      0   \n",
       "6                            McCarthy, Mr. Timothy J    male  54.0      0   \n",
       "7                     Palsson, Master. Gosta Leonard    male   2.0      3   \n",
       "8  Johnson, Mrs. Oscar W (Elisabeth Vilhelmina Berg)  female  27.0      0   \n",
       "9                Nasser, Mrs. Nicholas (Adele Achem)  female  14.0      1   \n",
       "\n",
       "   Parch            Ticket     Fare Cabin Embarked  \n",
       "0      0         A/5 21171   7.2500   NaN        S  \n",
       "1      0          PC 17599  71.2833   C85        C  \n",
       "2      0  STON/O2. 3101282   7.9250   NaN        S  \n",
       "3      0            113803  53.1000  C123        S  \n",
       "4      0            373450   8.0500   NaN        S  \n",
       "5      0            330877   8.4583   NaN        Q  \n",
       "6      0             17463  51.8625   E46        S  \n",
       "7      1            349909  21.0750   NaN        S  \n",
       "8      2            347742  11.1333   NaN        S  \n",
       "9      0            237736  30.0708   NaN        C  "
      ]
     },
     "execution_count": 3,
     "metadata": {},
     "output_type": "execute_result"
    }
   ],
   "source": [
    "data.head(10)"
   ]
  },
  {
   "cell_type": "markdown",
   "id": "6201e149-96eb-481c-974b-59222d0b0e32",
   "metadata": {},
   "source": [
    "### Last 10 Rows"
   ]
  },
  {
   "cell_type": "code",
   "execution_count": 4,
   "id": "fb35d25d-4f04-486b-88ab-514526e608eb",
   "metadata": {},
   "outputs": [
    {
     "data": {
      "text/html": [
       "<div>\n",
       "<style scoped>\n",
       "    .dataframe tbody tr th:only-of-type {\n",
       "        vertical-align: middle;\n",
       "    }\n",
       "\n",
       "    .dataframe tbody tr th {\n",
       "        vertical-align: top;\n",
       "    }\n",
       "\n",
       "    .dataframe thead th {\n",
       "        text-align: right;\n",
       "    }\n",
       "</style>\n",
       "<table border=\"1\" class=\"dataframe\">\n",
       "  <thead>\n",
       "    <tr style=\"text-align: right;\">\n",
       "      <th></th>\n",
       "      <th>PassengerId</th>\n",
       "      <th>Survived</th>\n",
       "      <th>Pclass</th>\n",
       "      <th>Name</th>\n",
       "      <th>Sex</th>\n",
       "      <th>Age</th>\n",
       "      <th>SibSp</th>\n",
       "      <th>Parch</th>\n",
       "      <th>Ticket</th>\n",
       "      <th>Fare</th>\n",
       "      <th>Cabin</th>\n",
       "      <th>Embarked</th>\n",
       "    </tr>\n",
       "  </thead>\n",
       "  <tbody>\n",
       "    <tr>\n",
       "      <th>881</th>\n",
       "      <td>882</td>\n",
       "      <td>0</td>\n",
       "      <td>3</td>\n",
       "      <td>Markun, Mr. Johann</td>\n",
       "      <td>male</td>\n",
       "      <td>33.0</td>\n",
       "      <td>0</td>\n",
       "      <td>0</td>\n",
       "      <td>349257</td>\n",
       "      <td>7.8958</td>\n",
       "      <td>NaN</td>\n",
       "      <td>S</td>\n",
       "    </tr>\n",
       "    <tr>\n",
       "      <th>882</th>\n",
       "      <td>883</td>\n",
       "      <td>0</td>\n",
       "      <td>3</td>\n",
       "      <td>Dahlberg, Miss. Gerda Ulrika</td>\n",
       "      <td>female</td>\n",
       "      <td>22.0</td>\n",
       "      <td>0</td>\n",
       "      <td>0</td>\n",
       "      <td>7552</td>\n",
       "      <td>10.5167</td>\n",
       "      <td>NaN</td>\n",
       "      <td>S</td>\n",
       "    </tr>\n",
       "    <tr>\n",
       "      <th>883</th>\n",
       "      <td>884</td>\n",
       "      <td>0</td>\n",
       "      <td>2</td>\n",
       "      <td>Banfield, Mr. Frederick James</td>\n",
       "      <td>male</td>\n",
       "      <td>28.0</td>\n",
       "      <td>0</td>\n",
       "      <td>0</td>\n",
       "      <td>C.A./SOTON 34068</td>\n",
       "      <td>10.5000</td>\n",
       "      <td>NaN</td>\n",
       "      <td>S</td>\n",
       "    </tr>\n",
       "    <tr>\n",
       "      <th>884</th>\n",
       "      <td>885</td>\n",
       "      <td>0</td>\n",
       "      <td>3</td>\n",
       "      <td>Sutehall, Mr. Henry Jr</td>\n",
       "      <td>male</td>\n",
       "      <td>25.0</td>\n",
       "      <td>0</td>\n",
       "      <td>0</td>\n",
       "      <td>SOTON/OQ 392076</td>\n",
       "      <td>7.0500</td>\n",
       "      <td>NaN</td>\n",
       "      <td>S</td>\n",
       "    </tr>\n",
       "    <tr>\n",
       "      <th>885</th>\n",
       "      <td>886</td>\n",
       "      <td>0</td>\n",
       "      <td>3</td>\n",
       "      <td>Rice, Mrs. William (Margaret Norton)</td>\n",
       "      <td>female</td>\n",
       "      <td>39.0</td>\n",
       "      <td>0</td>\n",
       "      <td>5</td>\n",
       "      <td>382652</td>\n",
       "      <td>29.1250</td>\n",
       "      <td>NaN</td>\n",
       "      <td>Q</td>\n",
       "    </tr>\n",
       "    <tr>\n",
       "      <th>886</th>\n",
       "      <td>887</td>\n",
       "      <td>0</td>\n",
       "      <td>2</td>\n",
       "      <td>Montvila, Rev. Juozas</td>\n",
       "      <td>male</td>\n",
       "      <td>27.0</td>\n",
       "      <td>0</td>\n",
       "      <td>0</td>\n",
       "      <td>211536</td>\n",
       "      <td>13.0000</td>\n",
       "      <td>NaN</td>\n",
       "      <td>S</td>\n",
       "    </tr>\n",
       "    <tr>\n",
       "      <th>887</th>\n",
       "      <td>888</td>\n",
       "      <td>1</td>\n",
       "      <td>1</td>\n",
       "      <td>Graham, Miss. Margaret Edith</td>\n",
       "      <td>female</td>\n",
       "      <td>19.0</td>\n",
       "      <td>0</td>\n",
       "      <td>0</td>\n",
       "      <td>112053</td>\n",
       "      <td>30.0000</td>\n",
       "      <td>B42</td>\n",
       "      <td>S</td>\n",
       "    </tr>\n",
       "    <tr>\n",
       "      <th>888</th>\n",
       "      <td>889</td>\n",
       "      <td>0</td>\n",
       "      <td>3</td>\n",
       "      <td>Johnston, Miss. Catherine Helen \"Carrie\"</td>\n",
       "      <td>female</td>\n",
       "      <td>NaN</td>\n",
       "      <td>1</td>\n",
       "      <td>2</td>\n",
       "      <td>W./C. 6607</td>\n",
       "      <td>23.4500</td>\n",
       "      <td>NaN</td>\n",
       "      <td>S</td>\n",
       "    </tr>\n",
       "    <tr>\n",
       "      <th>889</th>\n",
       "      <td>890</td>\n",
       "      <td>1</td>\n",
       "      <td>1</td>\n",
       "      <td>Behr, Mr. Karl Howell</td>\n",
       "      <td>male</td>\n",
       "      <td>26.0</td>\n",
       "      <td>0</td>\n",
       "      <td>0</td>\n",
       "      <td>111369</td>\n",
       "      <td>30.0000</td>\n",
       "      <td>C148</td>\n",
       "      <td>C</td>\n",
       "    </tr>\n",
       "    <tr>\n",
       "      <th>890</th>\n",
       "      <td>891</td>\n",
       "      <td>0</td>\n",
       "      <td>3</td>\n",
       "      <td>Dooley, Mr. Patrick</td>\n",
       "      <td>male</td>\n",
       "      <td>32.0</td>\n",
       "      <td>0</td>\n",
       "      <td>0</td>\n",
       "      <td>370376</td>\n",
       "      <td>7.7500</td>\n",
       "      <td>NaN</td>\n",
       "      <td>Q</td>\n",
       "    </tr>\n",
       "  </tbody>\n",
       "</table>\n",
       "</div>"
      ],
      "text/plain": [
       "     PassengerId  Survived  Pclass                                      Name  \\\n",
       "881          882         0       3                        Markun, Mr. Johann   \n",
       "882          883         0       3              Dahlberg, Miss. Gerda Ulrika   \n",
       "883          884         0       2             Banfield, Mr. Frederick James   \n",
       "884          885         0       3                    Sutehall, Mr. Henry Jr   \n",
       "885          886         0       3      Rice, Mrs. William (Margaret Norton)   \n",
       "886          887         0       2                     Montvila, Rev. Juozas   \n",
       "887          888         1       1              Graham, Miss. Margaret Edith   \n",
       "888          889         0       3  Johnston, Miss. Catherine Helen \"Carrie\"   \n",
       "889          890         1       1                     Behr, Mr. Karl Howell   \n",
       "890          891         0       3                       Dooley, Mr. Patrick   \n",
       "\n",
       "        Sex   Age  SibSp  Parch            Ticket     Fare Cabin Embarked  \n",
       "881    male  33.0      0      0            349257   7.8958   NaN        S  \n",
       "882  female  22.0      0      0              7552  10.5167   NaN        S  \n",
       "883    male  28.0      0      0  C.A./SOTON 34068  10.5000   NaN        S  \n",
       "884    male  25.0      0      0   SOTON/OQ 392076   7.0500   NaN        S  \n",
       "885  female  39.0      0      5            382652  29.1250   NaN        Q  \n",
       "886    male  27.0      0      0            211536  13.0000   NaN        S  \n",
       "887  female  19.0      0      0            112053  30.0000   B42        S  \n",
       "888  female   NaN      1      2        W./C. 6607  23.4500   NaN        S  \n",
       "889    male  26.0      0      0            111369  30.0000  C148        C  \n",
       "890    male  32.0      0      0            370376   7.7500   NaN        Q  "
      ]
     },
     "execution_count": 4,
     "metadata": {},
     "output_type": "execute_result"
    }
   ],
   "source": [
    "data.tail(10)"
   ]
  },
  {
   "cell_type": "markdown",
   "id": "ab305e21-1546-4185-ae17-9bb93fab672d",
   "metadata": {},
   "source": [
    "### The column names and their data types."
   ]
  },
  {
   "cell_type": "code",
   "execution_count": 5,
   "id": "bb76f75e-29f2-4de9-bc6e-b2293a3555d1",
   "metadata": {},
   "outputs": [
    {
     "name": "stdout",
     "output_type": "stream",
     "text": [
      "<class 'pandas.core.frame.DataFrame'>\n",
      "RangeIndex: 891 entries, 0 to 890\n",
      "Data columns (total 12 columns):\n",
      " #   Column       Non-Null Count  Dtype  \n",
      "---  ------       --------------  -----  \n",
      " 0   PassengerId  891 non-null    int64  \n",
      " 1   Survived     891 non-null    int64  \n",
      " 2   Pclass       891 non-null    int64  \n",
      " 3   Name         891 non-null    object \n",
      " 4   Sex          891 non-null    object \n",
      " 5   Age          714 non-null    float64\n",
      " 6   SibSp        891 non-null    int64  \n",
      " 7   Parch        891 non-null    int64  \n",
      " 8   Ticket       891 non-null    object \n",
      " 9   Fare         891 non-null    float64\n",
      " 10  Cabin        204 non-null    object \n",
      " 11  Embarked     889 non-null    object \n",
      "dtypes: float64(2), int64(5), object(5)\n",
      "memory usage: 83.7+ KB\n"
     ]
    }
   ],
   "source": [
    "data.info()"
   ]
  },
  {
   "cell_type": "markdown",
   "id": "f6300d69-c90a-440d-95ce-61585a8d878e",
   "metadata": {},
   "source": [
    "###  View basic statistics (mean, min, max, etc.)."
   ]
  },
  {
   "cell_type": "code",
   "execution_count": 6,
   "id": "7401bc82-aa56-4558-bb9e-a7429ce7eb87",
   "metadata": {},
   "outputs": [
    {
     "data": {
      "text/html": [
       "<div>\n",
       "<style scoped>\n",
       "    .dataframe tbody tr th:only-of-type {\n",
       "        vertical-align: middle;\n",
       "    }\n",
       "\n",
       "    .dataframe tbody tr th {\n",
       "        vertical-align: top;\n",
       "    }\n",
       "\n",
       "    .dataframe thead th {\n",
       "        text-align: right;\n",
       "    }\n",
       "</style>\n",
       "<table border=\"1\" class=\"dataframe\">\n",
       "  <thead>\n",
       "    <tr style=\"text-align: right;\">\n",
       "      <th></th>\n",
       "      <th>PassengerId</th>\n",
       "      <th>Survived</th>\n",
       "      <th>Pclass</th>\n",
       "      <th>Age</th>\n",
       "      <th>SibSp</th>\n",
       "      <th>Parch</th>\n",
       "      <th>Fare</th>\n",
       "    </tr>\n",
       "  </thead>\n",
       "  <tbody>\n",
       "    <tr>\n",
       "      <th>count</th>\n",
       "      <td>891.000000</td>\n",
       "      <td>891.000000</td>\n",
       "      <td>891.000000</td>\n",
       "      <td>714.000000</td>\n",
       "      <td>891.000000</td>\n",
       "      <td>891.000000</td>\n",
       "      <td>891.000000</td>\n",
       "    </tr>\n",
       "    <tr>\n",
       "      <th>mean</th>\n",
       "      <td>446.000000</td>\n",
       "      <td>0.383838</td>\n",
       "      <td>2.308642</td>\n",
       "      <td>29.699118</td>\n",
       "      <td>0.523008</td>\n",
       "      <td>0.381594</td>\n",
       "      <td>32.204208</td>\n",
       "    </tr>\n",
       "    <tr>\n",
       "      <th>std</th>\n",
       "      <td>257.353842</td>\n",
       "      <td>0.486592</td>\n",
       "      <td>0.836071</td>\n",
       "      <td>14.526497</td>\n",
       "      <td>1.102743</td>\n",
       "      <td>0.806057</td>\n",
       "      <td>49.693429</td>\n",
       "    </tr>\n",
       "    <tr>\n",
       "      <th>min</th>\n",
       "      <td>1.000000</td>\n",
       "      <td>0.000000</td>\n",
       "      <td>1.000000</td>\n",
       "      <td>0.420000</td>\n",
       "      <td>0.000000</td>\n",
       "      <td>0.000000</td>\n",
       "      <td>0.000000</td>\n",
       "    </tr>\n",
       "    <tr>\n",
       "      <th>25%</th>\n",
       "      <td>223.500000</td>\n",
       "      <td>0.000000</td>\n",
       "      <td>2.000000</td>\n",
       "      <td>20.125000</td>\n",
       "      <td>0.000000</td>\n",
       "      <td>0.000000</td>\n",
       "      <td>7.910400</td>\n",
       "    </tr>\n",
       "    <tr>\n",
       "      <th>50%</th>\n",
       "      <td>446.000000</td>\n",
       "      <td>0.000000</td>\n",
       "      <td>3.000000</td>\n",
       "      <td>28.000000</td>\n",
       "      <td>0.000000</td>\n",
       "      <td>0.000000</td>\n",
       "      <td>14.454200</td>\n",
       "    </tr>\n",
       "    <tr>\n",
       "      <th>75%</th>\n",
       "      <td>668.500000</td>\n",
       "      <td>1.000000</td>\n",
       "      <td>3.000000</td>\n",
       "      <td>38.000000</td>\n",
       "      <td>1.000000</td>\n",
       "      <td>0.000000</td>\n",
       "      <td>31.000000</td>\n",
       "    </tr>\n",
       "    <tr>\n",
       "      <th>max</th>\n",
       "      <td>891.000000</td>\n",
       "      <td>1.000000</td>\n",
       "      <td>3.000000</td>\n",
       "      <td>80.000000</td>\n",
       "      <td>8.000000</td>\n",
       "      <td>6.000000</td>\n",
       "      <td>512.329200</td>\n",
       "    </tr>\n",
       "  </tbody>\n",
       "</table>\n",
       "</div>"
      ],
      "text/plain": [
       "       PassengerId    Survived      Pclass         Age       SibSp  \\\n",
       "count   891.000000  891.000000  891.000000  714.000000  891.000000   \n",
       "mean    446.000000    0.383838    2.308642   29.699118    0.523008   \n",
       "std     257.353842    0.486592    0.836071   14.526497    1.102743   \n",
       "min       1.000000    0.000000    1.000000    0.420000    0.000000   \n",
       "25%     223.500000    0.000000    2.000000   20.125000    0.000000   \n",
       "50%     446.000000    0.000000    3.000000   28.000000    0.000000   \n",
       "75%     668.500000    1.000000    3.000000   38.000000    1.000000   \n",
       "max     891.000000    1.000000    3.000000   80.000000    8.000000   \n",
       "\n",
       "            Parch        Fare  \n",
       "count  891.000000  891.000000  \n",
       "mean     0.381594   32.204208  \n",
       "std      0.806057   49.693429  \n",
       "min      0.000000    0.000000  \n",
       "25%      0.000000    7.910400  \n",
       "50%      0.000000   14.454200  \n",
       "75%      0.000000   31.000000  \n",
       "max      6.000000  512.329200  "
      ]
     },
     "execution_count": 6,
     "metadata": {},
     "output_type": "execute_result"
    }
   ],
   "source": [
    "data.describe()"
   ]
  },
  {
   "cell_type": "markdown",
   "id": "ed5c219f-3f2a-4409-92de-2a3626080a06",
   "metadata": {},
   "source": [
    "### Missing values"
   ]
  },
  {
   "cell_type": "code",
   "execution_count": 7,
   "id": "63bd0a55-cb65-4215-8e4a-37bf6739cd96",
   "metadata": {},
   "outputs": [
    {
     "data": {
      "text/plain": [
       "PassengerId      0\n",
       "Survived         0\n",
       "Pclass           0\n",
       "Name             0\n",
       "Sex              0\n",
       "Age            177\n",
       "SibSp            0\n",
       "Parch            0\n",
       "Ticket           0\n",
       "Fare             0\n",
       "Cabin          687\n",
       "Embarked         2\n",
       "dtype: int64"
      ]
     },
     "execution_count": 7,
     "metadata": {},
     "output_type": "execute_result"
    }
   ],
   "source": [
    "data.isnull().sum()"
   ]
  },
  {
   "cell_type": "markdown",
   "id": "523935b0-ef1b-477e-ab2e-40330c6a55a1",
   "metadata": {},
   "source": [
    "### Replace missing Age values with the mean age (using Numpy)."
   ]
  },
  {
   "cell_type": "code",
   "execution_count": 8,
   "id": "789eb7d7-8004-4ca7-8e02-b5337b7777ff",
   "metadata": {
    "scrolled": true
   },
   "outputs": [],
   "source": [
    "data['Age'] = np.where(np.isnan(data['Age'].values) == True  , round(np.mean(data['Age'])) , data['Age'])"
   ]
  },
  {
   "cell_type": "markdown",
   "id": "2a280226-1ee3-4bae-9b0a-b1a10652db2e",
   "metadata": {},
   "source": [
    "### Fill missing Embarked values with the most common port."
   ]
  },
  {
   "cell_type": "code",
   "execution_count": 9,
   "id": "3037e1b8-c4e5-4805-84aa-38918ecbb05f",
   "metadata": {
    "scrolled": true
   },
   "outputs": [],
   "source": [
    "temp = 0\n",
    "for i in data['Embarked'].unique().tolist():\n",
    "    if temp < data['Embarked'].tolist().count(i):\n",
    "        temp = data['Embarked'].tolist().count(i)\n",
    "        check = i\n",
    "    else:\n",
    "        continue\n",
    "data['Embarked'] = np.where(pd.isna(data['Embarked'].values) == True  , check , data['Embarked'])"
   ]
  },
  {
   "cell_type": "markdown",
   "id": "8b5035ec-7966-4a07-bdfa-b4d94b7f4f60",
   "metadata": {},
   "source": [
    "### How many passengers were onboard?"
   ]
  },
  {
   "cell_type": "code",
   "execution_count": 10,
   "id": "8fcab853-53f5-40ea-9f53-8a7aff5115f1",
   "metadata": {},
   "outputs": [
    {
     "data": {
      "text/plain": [
       "891"
      ]
     },
     "execution_count": 10,
     "metadata": {},
     "output_type": "execute_result"
    }
   ],
   "source": [
    "int(data['PassengerId'].values[-1])"
   ]
  },
  {
   "cell_type": "markdown",
   "id": "30ce91a3-b2a5-41a8-bf0c-e4434c20a7d0",
   "metadata": {},
   "source": [
    "### What is the average Age?"
   ]
  },
  {
   "cell_type": "code",
   "execution_count": 11,
   "id": "337518b0-072f-4e5f-89b9-1ce39caca351",
   "metadata": {},
   "outputs": [
    {
     "data": {
      "text/plain": [
       "29.758888888888887"
      ]
     },
     "execution_count": 11,
     "metadata": {},
     "output_type": "execute_result"
    }
   ],
   "source": [
    "float(np.mean(data['Age']))"
   ]
  },
  {
   "cell_type": "markdown",
   "id": "593760ee-e359-4554-8c72-43eef401f4f3",
   "metadata": {},
   "source": [
    "### What is the average Fare?"
   ]
  },
  {
   "cell_type": "code",
   "execution_count": 12,
   "id": "9a465427-2a60-478e-831c-d38421f3e4ba",
   "metadata": {},
   "outputs": [
    {
     "data": {
      "text/plain": [
       "32.204207968574636"
      ]
     },
     "execution_count": 12,
     "metadata": {},
     "output_type": "execute_result"
    }
   ],
   "source": [
    "float(np.mean(data['Fare']))"
   ]
  },
  {
   "cell_type": "markdown",
   "id": "686d190f-f97c-42ce-8d46-e291f6d1841e",
   "metadata": {},
   "source": [
    "### How many males and females were there?"
   ]
  },
  {
   "cell_type": "code",
   "execution_count": 13,
   "id": "1549c38f-f3d3-4d9c-b77a-3263734ee644",
   "metadata": {},
   "outputs": [
    {
     "name": "stdout",
     "output_type": "stream",
     "text": [
      "Females Count: 314\n",
      "Males Count: 577\n"
     ]
    }
   ],
   "source": [
    "print(f\"Females Count: {data['Sex'].values.tolist().count('female')}\")\n",
    "print(f\"Males Count: {data['Sex'].values.tolist().count('male')}\")\n"
   ]
  },
  {
   "cell_type": "markdown",
   "id": "1f989827-3ec9-48f9-9cfb-4054ff38391c",
   "metadata": {},
   "source": [
    "## Part B – Data Analysis (Pandas)"
   ]
  },
  {
   "cell_type": "markdown",
   "id": "84c7933c-8736-440b-a222-51c4eb6ea943",
   "metadata": {},
   "source": [
    "### How many survived vs. did not survive?"
   ]
  },
  {
   "cell_type": "code",
   "execution_count": 14,
   "id": "ba709b7c-99c5-421f-8244-4d70651a6ef6",
   "metadata": {},
   "outputs": [
    {
     "name": "stdout",
     "output_type": "stream",
     "text": [
      "Survived: 342 and Not Survive: 549\n"
     ]
    }
   ],
   "source": [
    "print(f'Survived: {int(data['Survived'].sum())} and Not Survive: {len(data['Survived'])-int(data['Survived'].sum())}')"
   ]
  },
  {
   "cell_type": "markdown",
   "id": "54eccea0-0b83-4605-975a-8c91cd131553",
   "metadata": {},
   "source": [
    "### What percentage of passengers survived?"
   ]
  },
  {
   "cell_type": "code",
   "execution_count": 15,
   "id": "3ef6038f-d46f-4fb1-988a-0e0e99f08aaf",
   "metadata": {},
   "outputs": [
    {
     "name": "stdout",
     "output_type": "stream",
     "text": [
      "Percentage of passengers survived: 38.4%\n"
     ]
    }
   ],
   "source": [
    "print(f\"Percentage of passengers survived: {round(int(data['Survived'].sum())/len(data['Survived'])*100 , 1)}%\")"
   ]
  },
  {
   "cell_type": "markdown",
   "id": "2920d4ce-d3bb-42d6-b531-35c8327b17e7",
   "metadata": {},
   "source": [
    "### Find survival rates for 1st, 2nd, and 3rd class."
   ]
  },
  {
   "cell_type": "code",
   "execution_count": 16,
   "id": "9ed3e3cc-dbd7-4be0-8925-56e183303333",
   "metadata": {},
   "outputs": [
    {
     "name": "stdout",
     "output_type": "stream",
     "text": [
      "Rate of Pclass 3: 24.2%\n",
      "Rate of Pclass 1: 63.0%\n",
      "Rate of Pclass 2: 47.3%\n"
     ]
    }
   ],
   "source": [
    "group_by_class = data.groupby('Pclass')\n",
    "\n",
    "for i in data['Pclass'].unique().tolist():\n",
    "    print(f\"Rate of Pclass {i}: {round(group_by_class.get_group(i)['Survived'].sum()/len(group_by_class.get_group(i)['Survived'])*100 , 1)}%\")"
   ]
  },
  {
   "cell_type": "markdown",
   "id": "084a608c-59d1-46d7-918f-9683d2187f24",
   "metadata": {},
   "source": [
    "### Which class had the highest chance of survival?"
   ]
  },
  {
   "cell_type": "code",
   "execution_count": 17,
   "id": "00e6f05f-9c51-4bd0-ab39-23ba1fb5027f",
   "metadata": {},
   "outputs": [
    {
     "name": "stdout",
     "output_type": "stream",
     "text": [
      "1 Class had the highest chance of survival\n"
     ]
    }
   ],
   "source": [
    "\n",
    "temp = 0\n",
    "\n",
    "for i in data['Pclass'].unique().tolist():\n",
    "    if round(group_by_class.get_group(i)['Survived'].sum()/len(group_by_class.get_group(i)['Survived'])*100 , 1) > temp:\n",
    "        temp = round(group_by_class.get_group(i)['Survived'].sum()/len(group_by_class.get_group(i)['Survived'])*100 , 1)\n",
    "        check = i\n",
    "    else:\n",
    "        continue\n",
    "print(f\"{check} Class had the highest chance of survival\")"
   ]
  },
  {
   "cell_type": "markdown",
   "id": "8201ca40-c768-441a-9eb7-57f80dbf2f9d",
   "metadata": {},
   "source": [
    "### Divide passengers into age groups:\n",
    "- 0–12 = Child\n",
    "- 13–19 = Teen\n",
    "- 20–40 = Adult\n",
    "- 41+ = Senior\n",
    "\n",
    "\n",
    "### Calculate survival rate for each group.\n"
   ]
  },
  {
   "cell_type": "code",
   "execution_count": 18,
   "id": "2acddb1c-14c6-4ae5-95fb-d855b610d5c8",
   "metadata": {},
   "outputs": [
    {
     "name": "stdout",
     "output_type": "stream",
     "text": [
      "Rate of Age Group Adult: 36.0%\n",
      "Rate of Age Group Senior: 36.7%\n",
      "Rate of Age Group Child: 58.0%\n",
      "Rate of Age Group Teen: 41.1%\n"
     ]
    }
   ],
   "source": [
    "def divider(age):\n",
    "    if age <= 12:\n",
    "        return 'Child'\n",
    "    elif age <= 19:\n",
    "        return  'Teen'\n",
    "    elif age <= 40:\n",
    "        return  'Adult'\n",
    "    elif age  > 40:\n",
    "        return  'Senior'\n",
    "\n",
    "\n",
    "data[\"Age Group\"] = data['Age'].apply(divider)\n",
    "\n",
    "group_by_age_class = data.groupby('Age Group')\n",
    "\n",
    "for i in data['Age Group'].unique().tolist():\n",
    "    print(f\"Rate of Age Group {i}: {round(group_by_age_class.get_group(i)['Survived'].sum()/len(group_by_age_class.get_group(i)['Survived'])*100 , 1)}%\")"
   ]
  },
  {
   "cell_type": "markdown",
   "id": "c92f47e6-1d56-42ee-bc21-43745838fd19",
   "metadata": {},
   "source": [
    "## Part C – Visualization (Matplotlib & Seaborn)"
   ]
  },
  {
   "cell_type": "markdown",
   "id": "55cfe68d-4f5a-4aa6-8e77-2862d3bb86cd",
   "metadata": {},
   "source": [
    "### Bar chart: Number of survivors (0 vs 1)."
   ]
  },
  {
   "cell_type": "code",
   "execution_count": 19,
   "id": "b03fd662-2d24-4ff5-a492-a2405722f25e",
   "metadata": {
    "scrolled": true
   },
   "outputs": [
    {
     "data": {
      "image/png": "[encoded data removed]",
      "text/plain": [
       "<Figure size 640x480 with 1 Axes>"
      ]
     },
     "metadata": {},
     "output_type": "display_data"
    }
   ],
   "source": [
    "y = data['Survived'].value_counts().values\n",
    "x = data['Survived'].value_counts().index\n",
    "\n",
    "plt.bar(x ,  y)\n",
    "plt.xticks([1,0],[\"Survived\",\"Not Survive\"])\n",
    "plt.ylabel('Counts')\n",
    "plt.xlabel('Category')\n",
    "plt.title('Survived vs Not Servive')\n",
    "plt.savefig(\"graph1.jpg\", dpi=300)\n",
    "plt.show()"
   ]
  },
  {
   "cell_type": "markdown",
   "id": "a838fdd8-e56b-4e4d-8979-104169f62279",
   "metadata": {},
   "source": [
    "### Histogram: Distribution of passenger ages (bins = 20)."
   ]
  },
  {
   "cell_type": "code",
   "execution_count": 20,
   "id": "24f781c4-f6d7-4afa-b01a-cf37437ca283",
   "metadata": {},
   "outputs": [
    {
     "data": {
      "image/png": "[encoded data removed]",
      "text/plain": [
       "<Figure size 640x480 with 1 Axes>"
      ]
     },
     "metadata": {},
     "output_type": "display_data"
    }
   ],
   "source": [
    "plt.close()\n",
    "plt.hist(data['Age']  , bins = 20 , edgecolor = 'black')\n",
    "plt.title('Distribution of passenger ages.')\n",
    "plt.xlabel('Age')\n",
    "plt.ylabel('Counts Of Passenger')\n",
    "plt.grid(True)\n",
    "plt.savefig(\"graph2.jpg\", dpi=300)\n",
    "plt.show()"
   ]
  },
  {
   "cell_type": "markdown",
   "id": "3bde93d6-ab5a-443f-a2c3-a4ff4470d8fe",
   "metadata": {},
   "source": [
    "### Pie chart: Gender distribution."
   ]
  },
  {
   "cell_type": "code",
   "execution_count": 21,
   "id": "eb0d53d1-1e94-42e9-8fb8-16c74da2ff24",
   "metadata": {},
   "outputs": [
    {
     "data": {
      "image/png": "[encoded data removed]",
      "text/plain": [
       "<Figure size 640x480 with 1 Axes>"
      ]
     },
     "metadata": {},
     "output_type": "display_data"
    }
   ],
   "source": [
    "y = data['Sex'].value_counts()\n",
    "x = data['Sex'].value_counts().index\n",
    "\n",
    "plt.pie(y , labels= ['Male','Female'] , autopct=\"%1.1f%%\" , explode = [0.1,0])\n",
    "\n",
    "\n",
    "\n",
    "plt.title('Pie chart of Gender Distribution')\n",
    "plt.savefig(\"graph3.jpg\", dpi=300)\n",
    "plt.show()"
   ]
  },
  {
   "cell_type": "markdown",
   "id": "a4fde80e-959d-4d8f-8dc0-3a8e87f6f8b0",
   "metadata": {},
   "source": [
    "### Countplot: Survived by Sex (Who survived more?)."
   ]
  },
  {
   "cell_type": "code",
   "execution_count": 22,
   "id": "21fe81e0-cf00-4bf7-9f63-d4e4427004e6",
   "metadata": {},
   "outputs": [
    {
     "data": {
      "image/png": "[encoded data removed]",
      "text/plain": [
       "<Figure size 640x480 with 1 Axes>"
      ]
     },
     "metadata": {},
     "output_type": "display_data"
    }
   ],
   "source": [
    "plt.close()\n",
    "sns.countplot(x = 'Survived' , data = data , hue = 'Sex')\n",
    "plt.ylabel('Counts of Survived')\n",
    "plt.xlabel('')\n",
    "plt.xticks([1,0] , ['Survived' , 'Not Survive'])\n",
    "plt.title('Countplot: Survived by Sex (Who survived more?).')\n",
    "plt.savefig(\"graph4.jpg\", dpi=300)\n",
    "plt.show()"
   ]
  },
  {
   "cell_type": "markdown",
   "id": "86139746-6108-49e4-ab0d-583e9f37f035",
   "metadata": {},
   "source": [
    "### Boxplot: Fare by Pclass (Which class paid more?)."
   ]
  },
  {
   "cell_type": "code",
   "execution_count": 23,
   "id": "7d1cb730-0090-4edc-a622-34fd1427a801",
   "metadata": {},
   "outputs": [
    {
     "data": {
      "image/png": "[encoded data removed]",
      "text/plain": [
       "<Figure size 640x480 with 1 Axes>"
      ]
     },
     "metadata": {},
     "output_type": "display_data"
    }
   ],
   "source": [
    "plt.close()\n",
    "sns.boxplot(data = data , x = 'Pclass' , y = 'Fare' , hue = 'Pclass')\n",
    "plt.ylabel('Counts of Fare')\n",
    "plt.xlabel('P Classes')\n",
    "# plt.xticks([1,2,3] , ['1st' , '2nd' , '3rd'])\n",
    "plt.title('Boxplot: Fare by Pclass (Which class paid more?).')\n",
    "plt.savefig(\"graph5.jpg\", dpi=300)\n",
    "plt.show()"
   ]
  },
  {
   "cell_type": "markdown",
   "id": "a9f65a0d-6072-4499-ba9b-de2d77e07199",
   "metadata": {},
   "source": [
    "### Violinplot: Age by Survived (Age distribution among survivors)."
   ]
  },
  {
   "cell_type": "code",
   "execution_count": 24,
   "id": "bb0a7be2-8981-4627-8010-8d48bf876cb7",
   "metadata": {},
   "outputs": [
    {
     "data": {
      "image/png": "[encoded data removed]",
      "text/plain": [
       "<Figure size 640x480 with 1 Axes>"
      ]
     },
     "metadata": {},
     "output_type": "display_data"
    }
   ],
   "source": [
    "plt.close()\n",
    "sns.violinplot(data = data , y = 'Age Group' , x = 'Survived')\n",
    "plt.ylabel('Age Category')\n",
    "plt.xlabel(\"\")\n",
    "plt.xticks([0,1],['Not Survived','Survived'])\n",
    "plt.title('Violinplot: Age by Survived (Age distribution among survivors).')\n",
    "plt.savefig(\"graph6.jpg\", dpi=300)\n",
    "plt.show()"
   ]
  },
  {
   "cell_type": "markdown",
   "id": "ebb8f3ff-a5ae-4f0d-a1e1-fc8b55503546",
   "metadata": {},
   "source": [
    "### Heatmap: Correlation between numerical columns (Age, Fare, Pclass, Survived)."
   ]
  },
  {
   "cell_type": "code",
   "execution_count": 25,
   "id": "80d5cda8-f898-4f3d-9868-6109ca4c2693",
   "metadata": {},
   "outputs": [
    {
     "data": {
      "image/png": "[encoded data removed]",
      "text/plain": [
       "<Figure size 640x480 with 2 Axes>"
      ]
     },
     "metadata": {},
     "output_type": "display_data"
    }
   ],
   "source": [
    "plt.close()\n",
    "\n",
    "num_cols = [\"Age\", \"Fare\", \"Pclass\", \"Survived\"]\n",
    "\n",
    "corr = data[num_cols].corr()\n",
    "sns.heatmap(corr, annot=True, cmap=\"coolwarm\", linewidths=0.5)\n",
    "\n",
    "plt.title('Heatmap: Correlation between numerical columns (Age, Fare, Pclass, Survived).')\n",
    "plt.savefig(\"graph7.jpg\", dpi=300)\n",
    "plt.show()"
   ]
  },
  {
   "cell_type": "markdown",
   "id": "12095583-14ac-4bc8-bb57-55606ca5a19f",
   "metadata": {},
   "source": [
    "## Part D – Probability Concepts"
   ]
  },
  {
   "cell_type": "markdown",
   "id": "16398d73-d00c-4805-997a-6c3d7ddc330e",
   "metadata": {},
   "source": [
    "## Empirical Probability"
   ]
  },
  {
   "cell_type": "markdown",
   "id": "d064c4e1-149e-4e91-95f4-85c0a519f7fb",
   "metadata": {},
   "source": [
    "### Probability a passenger survived"
   ]
  },
  {
   "cell_type": "code",
   "execution_count": 26,
   "id": "f7f38d51-bcb4-4c9e-bc95-39290fe8bcfa",
   "metadata": {},
   "outputs": [
    {
     "name": "stdout",
     "output_type": "stream",
     "text": [
      "Probability a passenger survived: 0.3838383838383838\n"
     ]
    }
   ],
   "source": [
    "print(f\"Probability a passenger survived: {float(data['Survived'].sum()/len(data['Survived']))}\")"
   ]
  },
  {
   "cell_type": "markdown",
   "id": "e9fa0c4c-ab63-4b7f-9e66-3ce121d0b510",
   "metadata": {},
   "source": [
    "### Probability a female survived"
   ]
  },
  {
   "cell_type": "code",
   "execution_count": 27,
   "id": "2c685d65-6bc3-4c7d-9b55-f34ec5ba3e5a",
   "metadata": {},
   "outputs": [
    {
     "name": "stdout",
     "output_type": "stream",
     "text": [
      "Probability a female survived: 0.7420382165605095\n"
     ]
    }
   ],
   "source": [
    "group_by_gender = data.groupby('Sex')\n",
    "\n",
    "print(f\"Probability a female survived: {float(group_by_gender.get_group('female')['Survived'].sum()/len(group_by_gender.get_group('female')['Survived']))}\")"
   ]
  },
  {
   "cell_type": "markdown",
   "id": "b80c12c3-6f86-48c8-bcf8-d87a0679d23a",
   "metadata": {},
   "source": [
    "### Probability a male survived"
   ]
  },
  {
   "cell_type": "code",
   "execution_count": 28,
   "id": "d1693ab0-f5e9-402b-8fa4-02167dc9855b",
   "metadata": {},
   "outputs": [
    {
     "name": "stdout",
     "output_type": "stream",
     "text": [
      "Probability a male survived: 0.18890814558058924\n"
     ]
    }
   ],
   "source": [
    "print(f\"Probability a male survived: {float(group_by_gender.get_group('male')['Survived'].sum()/len(group_by_gender.get_group('male')['Survived']))}\")"
   ]
  },
  {
   "cell_type": "markdown",
   "id": "6a3976f3-78ce-4ef7-b39c-142a3a7046bd",
   "metadata": {},
   "source": [
    "### Compare probabilities across Pclass. \n",
    "1. Probability a passenger survived\n",
    "2. Probability a female survived\n",
    "3. Probability a male survived"
   ]
  },
  {
   "cell_type": "markdown",
   "id": "e32b6c38-903b-4d7a-b418-23ef94f48c57",
   "metadata": {},
   "source": [
    "### 1. Probability a passenger survived"
   ]
  },
  {
   "cell_type": "code",
   "execution_count": 29,
   "id": "9f9d92a9-ec13-4ee0-920a-32705450980d",
   "metadata": {
    "scrolled": true
   },
   "outputs": [
    {
     "name": "stdout",
     "output_type": "stream",
     "text": [
      "Probability a passenger survived PClass 1: 0.6296296296296297\n",
      "Probability a passenger survived PClass 2: 0.47282608695652173\n",
      "Probability a passenger survived PClass 3: 0.24236252545824846\n"
     ]
    }
   ],
   "source": [
    "print(f\"Probability a passenger survived PClass 1: {float(group_by_class.get_group(1)['Survived'].sum()/len(group_by_class.get_group(1)['Survived']))}\")\n",
    "print(f\"Probability a passenger survived PClass 2: {float(group_by_class.get_group(2)['Survived'].sum()/len(group_by_class.get_group(2)['Survived']))}\")\n",
    "print(f\"Probability a passenger survived PClass 3: {float(group_by_class.get_group(3)['Survived'].sum()/len(group_by_class.get_group(3)['Survived']))}\")"
   ]
  },
  {
   "cell_type": "markdown",
   "id": "0ba848a8-9887-4148-a3d2-35204bc01c0e",
   "metadata": {},
   "source": [
    "### 2. Probability a female survived"
   ]
  },
  {
   "cell_type": "code",
   "execution_count": 30,
   "id": "09e20eb4-545c-4fa0-ae74-e3b8123a28dc",
   "metadata": {},
   "outputs": [
    {
     "name": "stdout",
     "output_type": "stream",
     "text": [
      "Probability a female survived PClass 1: 0.9680851063829787\n",
      "Probability a female survived PClass 2: 0.9210526315789473\n",
      "Probability a female survived PClass 3: 0.5\n"
     ]
    }
   ],
   "source": [
    "group_by_class.get_group(1).groupby('Sex')\n",
    "print(f\"Probability a female survived PClass 1: {float(group_by_class.get_group(1).groupby('Sex').get_group('female')['Survived'].sum()/len(group_by_class.get_group(1).groupby('Sex').get_group('female')['Survived']))}\")\n",
    "print(f\"Probability a female survived PClass 2: {float(group_by_class.get_group(2).groupby('Sex').get_group('female')['Survived'].sum()/len(group_by_class.get_group(2).groupby('Sex').get_group('female')['Survived']))}\")\n",
    "print(f\"Probability a female survived PClass 3: {float(group_by_class.get_group(3).groupby('Sex').get_group('female')['Survived'].sum()/len(group_by_class.get_group(3).groupby('Sex').get_group('female')['Survived']))}\")"
   ]
  },
  {
   "cell_type": "markdown",
   "id": "5b5aed4a-b540-49dd-bf9e-0a04a2b19532",
   "metadata": {},
   "source": [
    "### 3. Probability a male survived"
   ]
  },
  {
   "cell_type": "code",
   "execution_count": 31,
   "id": "5cae12c4-5a72-42f4-b49c-37ac7ace6d04",
   "metadata": {},
   "outputs": [
    {
     "name": "stdout",
     "output_type": "stream",
     "text": [
      "Probability a male survived PClass 1: 0.36885245901639346\n",
      "Probability a male survived PClass 2: 0.1574074074074074\n",
      "Probability a male survived PClass 3: 0.13544668587896252\n"
     ]
    }
   ],
   "source": [
    "print(f\"Probability a male survived PClass 1: {float(group_by_class.get_group(1).groupby('Sex').get_group('male')['Survived'].sum()/len(group_by_class.get_group(1).groupby('Sex').get_group('male')['Survived']))}\")\n",
    "print(f\"Probability a male survived PClass 2: {float(group_by_class.get_group(2).groupby('Sex').get_group('male')['Survived'].sum()/len(group_by_class.get_group(2).groupby('Sex').get_group('male')['Survived']))}\")\n",
    "print(f\"Probability a male survived PClass 3: {float(group_by_class.get_group(3).groupby('Sex').get_group('male')['Survived'].sum()/len(group_by_class.get_group(3).groupby('Sex').get_group('male')['Survived']))}\")"
   ]
  },
  {
   "cell_type": "markdown",
   "id": "306f5319-2520-41cb-b286-c907ee6cd307",
   "metadata": {},
   "source": [
    "## Theoretical Probability"
   ]
  },
  {
   "cell_type": "markdown",
   "id": "c09075e1-b842-49d8-91c9-a286384fd019",
   "metadata": {},
   "source": [
    "### Theoretical Probability VS Empirical Probability"
   ]
  },
  {
   "cell_type": "code",
   "execution_count": 32,
   "id": "1ede75f1-6cd6-475e-af6e-508a619db171",
   "metadata": {},
   "outputs": [
    {
     "data": {
      "text/html": [
       "<div>\n",
       "<style scoped>\n",
       "    .dataframe tbody tr th:only-of-type {\n",
       "        vertical-align: middle;\n",
       "    }\n",
       "\n",
       "    .dataframe tbody tr th {\n",
       "        vertical-align: top;\n",
       "    }\n",
       "\n",
       "    .dataframe thead th {\n",
       "        text-align: right;\n",
       "    }\n",
       "</style>\n",
       "<table border=\"1\" class=\"dataframe\">\n",
       "  <thead>\n",
       "    <tr style=\"text-align: right;\">\n",
       "      <th></th>\n",
       "      <th>Empirical Probability</th>\n",
       "      <th>Theoretical Probability</th>\n",
       "    </tr>\n",
       "  </thead>\n",
       "  <tbody>\n",
       "    <tr>\n",
       "      <th>Pclass 1 Survival</th>\n",
       "      <td>0.629630</td>\n",
       "      <td>0.5</td>\n",
       "    </tr>\n",
       "    <tr>\n",
       "      <th>Pclass 2 Survival</th>\n",
       "      <td>0.472826</td>\n",
       "      <td>0.5</td>\n",
       "    </tr>\n",
       "    <tr>\n",
       "      <th>Pclass 3 Survival</th>\n",
       "      <td>0.242363</td>\n",
       "      <td>0.5</td>\n",
       "    </tr>\n",
       "    <tr>\n",
       "      <th>Female Pclass 1 Survival</th>\n",
       "      <td>0.968085</td>\n",
       "      <td>0.5</td>\n",
       "    </tr>\n",
       "    <tr>\n",
       "      <th>Female Pclass 2 Survival</th>\n",
       "      <td>0.921053</td>\n",
       "      <td>0.5</td>\n",
       "    </tr>\n",
       "    <tr>\n",
       "      <th>Female Pclass 3 Survival</th>\n",
       "      <td>0.500000</td>\n",
       "      <td>0.5</td>\n",
       "    </tr>\n",
       "    <tr>\n",
       "      <th>Male Pclass 1 Survival</th>\n",
       "      <td>0.368852</td>\n",
       "      <td>0.5</td>\n",
       "    </tr>\n",
       "    <tr>\n",
       "      <th>Male Pclass 2 Survival</th>\n",
       "      <td>0.157407</td>\n",
       "      <td>0.5</td>\n",
       "    </tr>\n",
       "    <tr>\n",
       "      <th>Male Pclass 3 Survival</th>\n",
       "      <td>0.135447</td>\n",
       "      <td>0.5</td>\n",
       "    </tr>\n",
       "  </tbody>\n",
       "</table>\n",
       "</div>"
      ],
      "text/plain": [
       "                          Empirical Probability  Theoretical Probability\n",
       "Pclass 1 Survival                      0.629630                      0.5\n",
       "Pclass 2 Survival                      0.472826                      0.5\n",
       "Pclass 3 Survival                      0.242363                      0.5\n",
       "Female Pclass 1 Survival               0.968085                      0.5\n",
       "Female Pclass 2 Survival               0.921053                      0.5\n",
       "Female Pclass 3 Survival               0.500000                      0.5\n",
       "Male Pclass 1 Survival                 0.368852                      0.5\n",
       "Male Pclass 2 Survival                 0.157407                      0.5\n",
       "Male Pclass 3 Survival                 0.135447                      0.5"
      ]
     },
     "execution_count": 32,
     "metadata": {},
     "output_type": "execute_result"
    }
   ],
   "source": [
    "empirical = {\n",
    "    \"Pclass 1 Survival\": float(group_by_class.get_group(1)['Survived'].sum() / len(group_by_class.get_group(1)['Survived'])),\n",
    "    \"Pclass 2 Survival\": float(group_by_class.get_group(2)['Survived'].sum() / len(group_by_class.get_group(2)['Survived'])),\n",
    "    \"Pclass 3 Survival\": float(group_by_class.get_group(3)['Survived'].sum() / len(group_by_class.get_group(3)['Survived'])),\n",
    "\n",
    "    \"Female Pclass 1 Survival\": float(group_by_class.get_group(1).groupby('Sex').get_group('female')['Survived'].sum() / len(group_by_class.get_group(1).groupby('Sex').get_group('female')['Survived'])),\n",
    "    \"Female Pclass 2 Survival\": float(group_by_class.get_group(2).groupby('Sex').get_group('female')['Survived'].sum() / len(group_by_class.get_group(2).groupby('Sex').get_group('female')['Survived'])),\n",
    "    \"Female Pclass 3 Survival\": float(group_by_class.get_group(3).groupby('Sex').get_group('female')['Survived'].sum() / len(group_by_class.get_group(3).groupby('Sex').get_group('female')['Survived'])),\n",
    "\n",
    "    \"Male Pclass 1 Survival\": float(group_by_class.get_group(1).groupby('Sex').get_group('male')['Survived'].sum() / len(group_by_class.get_group(1).groupby('Sex').get_group('male')['Survived'])),\n",
    "    \"Male Pclass 2 Survival\": float(group_by_class.get_group(2).groupby('Sex').get_group('male')['Survived'].sum() / len(group_by_class.get_group(2).groupby('Sex').get_group('male')['Survived'])),\n",
    "    \"Male Pclass 3 Survival\": float(group_by_class.get_group(3).groupby('Sex').get_group('male')['Survived'].sum() / len(group_by_class.get_group(3).groupby('Sex').get_group('male')['Survived']))\n",
    "}\n",
    "\n",
    "\n",
    "theoretical = {key: 0.5 for key in empirical.keys()}\n",
    "\n",
    "\n",
    "df = pd.DataFrame({\n",
    "    \"Empirical Probability\": empirical,\n",
    "    \"Theoretical Probability\": theoretical\n",
    "})\n",
    "\n",
    "df"
   ]
  },
  {
   "cell_type": "markdown",
   "id": "b3ebfd8b-350b-4cc1-9a83-fddf06dd9136",
   "metadata": {},
   "source": [
    "# The End"
   ]
  },
  {
   "cell_type": "code",
   "execution_count": null,
   "id": "45843657-cc20-4103-9161-2174e24f910b",
   "metadata": {},
   "outputs": [],
   "source": []
  }
 ],
 "metadata": {
  "kernelspec": {
   "display_name": "Python 3 (ipykernel)",
   "language": "python",
   "name": "python3"
  },
  "language_info": {
   "codemirror_mode": {
    "name": "ipython",
    "version": 3
   },
   "file_extension": ".py",
   "mimetype": "text/x-python",
   "name": "python",
   "nbconvert_exporter": "python",
   "pygments_lexer": "ipython3",
   "version": "3.13.5"
  }
 },
 "nbformat": 4,
 "nbformat_minor": 5
}
