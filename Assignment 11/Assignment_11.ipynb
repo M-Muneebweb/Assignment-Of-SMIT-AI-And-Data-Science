{
 "cells": [
  {
   "cell_type": "markdown",
   "id": "de7f590e-c323-4c45-be10-73f804ebe59b",
   "metadata": {},
   "source": [
    "## Data Loading"
   ]
  },
  {
   "cell_type": "code",
   "execution_count": 2,
   "id": "f35566c7-957e-49ee-9dc1-f4faac603f39",
   "metadata": {},
   "outputs": [],
   "source": [
    "\n",
    "\n",
    "import kagglehub\n",
    "import pandas as pd\n",
    "import numpy as np\n",
    "import seaborn as sns\n",
    "import matplotlib.pyplot as plt\n",
    "import math\n",
    "from scipy.stats import norm\n",
    "# Download latest version\n",
    "path = kagglehub.dataset_download(\"iammustafatz/diabetes-prediction-dataset\")\n",
    "\n",
    "path = f\"{path}\\\\diabetes_prediction_dataset.csv\"\n",
    "\n",
    "data = pd.read_csv(path)\n",
    "\n"
   ]
  },
  {
   "cell_type": "markdown",
   "id": "a518f4ba-c390-45de-a6ff-48439245b3b1",
   "metadata": {},
   "source": [
    "## Initial Exploration"
   ]
  },
  {
   "cell_type": "code",
   "execution_count": 1,
   "id": "98264f9a-42b9-4a54-834c-e4a92d2d1be8",
   "metadata": {},
   "outputs": [
    {
     "ename": "NameError",
     "evalue": "name 'data' is not defined",
     "output_type": "error",
     "traceback": [
      "\u001b[31m---------------------------------------------------------------------------\u001b[39m",
      "\u001b[31mNameError\u001b[39m                                 Traceback (most recent call last)",
      "\u001b[36mCell\u001b[39m\u001b[36m \u001b[39m\u001b[32mIn[1]\u001b[39m\u001b[32m, line 1\u001b[39m\n\u001b[32m----> \u001b[39m\u001b[32m1\u001b[39m \u001b[43mdata\u001b[49m.head()\n",
      "\u001b[31mNameError\u001b[39m: name 'data' is not defined"
     ]
    }
   ],
   "source": [
    "data.head()"
   ]
  },
  {
   "cell_type": "code",
   "execution_count": 3,
   "id": "9d0e5722-1548-4df3-9160-9ce86d9e764b",
   "metadata": {},
   "outputs": [
    {
     "data": {
      "text/html": [
       "<div>\n",
       "<style scoped>\n",
       "    .dataframe tbody tr th:only-of-type {\n",
       "        vertical-align: middle;\n",
       "    }\n",
       "\n",
       "    .dataframe tbody tr th {\n",
       "        vertical-align: top;\n",
       "    }\n",
       "\n",
       "    .dataframe thead th {\n",
       "        text-align: right;\n",
       "    }\n",
       "</style>\n",
       "<table border=\"1\" class=\"dataframe\">\n",
       "  <thead>\n",
       "    <tr style=\"text-align: right;\">\n",
       "      <th></th>\n",
       "      <th>gender</th>\n",
       "      <th>age</th>\n",
       "      <th>hypertension</th>\n",
       "      <th>heart_disease</th>\n",
       "      <th>smoking_history</th>\n",
       "      <th>bmi</th>\n",
       "      <th>HbA1c_level</th>\n",
       "      <th>blood_glucose_level</th>\n",
       "      <th>diabetes</th>\n",
       "    </tr>\n",
       "  </thead>\n",
       "  <tbody>\n",
       "    <tr>\n",
       "      <th>99995</th>\n",
       "      <td>Female</td>\n",
       "      <td>80.0</td>\n",
       "      <td>0</td>\n",
       "      <td>0</td>\n",
       "      <td>No Info</td>\n",
       "      <td>27.32</td>\n",
       "      <td>6.2</td>\n",
       "      <td>90</td>\n",
       "      <td>0</td>\n",
       "    </tr>\n",
       "    <tr>\n",
       "      <th>99996</th>\n",
       "      <td>Female</td>\n",
       "      <td>2.0</td>\n",
       "      <td>0</td>\n",
       "      <td>0</td>\n",
       "      <td>No Info</td>\n",
       "      <td>17.37</td>\n",
       "      <td>6.5</td>\n",
       "      <td>100</td>\n",
       "      <td>0</td>\n",
       "    </tr>\n",
       "    <tr>\n",
       "      <th>99997</th>\n",
       "      <td>Male</td>\n",
       "      <td>66.0</td>\n",
       "      <td>0</td>\n",
       "      <td>0</td>\n",
       "      <td>former</td>\n",
       "      <td>27.83</td>\n",
       "      <td>5.7</td>\n",
       "      <td>155</td>\n",
       "      <td>0</td>\n",
       "    </tr>\n",
       "    <tr>\n",
       "      <th>99998</th>\n",
       "      <td>Female</td>\n",
       "      <td>24.0</td>\n",
       "      <td>0</td>\n",
       "      <td>0</td>\n",
       "      <td>never</td>\n",
       "      <td>35.42</td>\n",
       "      <td>4.0</td>\n",
       "      <td>100</td>\n",
       "      <td>0</td>\n",
       "    </tr>\n",
       "    <tr>\n",
       "      <th>99999</th>\n",
       "      <td>Female</td>\n",
       "      <td>57.0</td>\n",
       "      <td>0</td>\n",
       "      <td>0</td>\n",
       "      <td>current</td>\n",
       "      <td>22.43</td>\n",
       "      <td>6.6</td>\n",
       "      <td>90</td>\n",
       "      <td>0</td>\n",
       "    </tr>\n",
       "  </tbody>\n",
       "</table>\n",
       "</div>"
      ],
      "text/plain": [
       "       gender   age  hypertension  heart_disease smoking_history    bmi  \\\n",
       "99995  Female  80.0             0              0         No Info  27.32   \n",
       "99996  Female   2.0             0              0         No Info  17.37   \n",
       "99997    Male  66.0             0              0          former  27.83   \n",
       "99998  Female  24.0             0              0           never  35.42   \n",
       "99999  Female  57.0             0              0         current  22.43   \n",
       "\n",
       "       HbA1c_level  blood_glucose_level  diabetes  \n",
       "99995          6.2                   90         0  \n",
       "99996          6.5                  100         0  \n",
       "99997          5.7                  155         0  \n",
       "99998          4.0                  100         0  \n",
       "99999          6.6                   90         0  "
      ]
     },
     "execution_count": 3,
     "metadata": {},
     "output_type": "execute_result"
    }
   ],
   "source": [
    "data.tail()"
   ]
  },
  {
   "cell_type": "code",
   "execution_count": 4,
   "id": "c9c76e5b-8fe0-43ce-87ee-1d0caa43a7ff",
   "metadata": {},
   "outputs": [
    {
     "name": "stdout",
     "output_type": "stream",
     "text": [
      "<class 'pandas.core.frame.DataFrame'>\n",
      "RangeIndex: 100000 entries, 0 to 99999\n",
      "Data columns (total 9 columns):\n",
      " #   Column               Non-Null Count   Dtype  \n",
      "---  ------               --------------   -----  \n",
      " 0   gender               100000 non-null  object \n",
      " 1   age                  100000 non-null  float64\n",
      " 2   hypertension         100000 non-null  int64  \n",
      " 3   heart_disease        100000 non-null  int64  \n",
      " 4   smoking_history      100000 non-null  object \n",
      " 5   bmi                  100000 non-null  float64\n",
      " 6   HbA1c_level          100000 non-null  float64\n",
      " 7   blood_glucose_level  100000 non-null  int64  \n",
      " 8   diabetes             100000 non-null  int64  \n",
      "dtypes: float64(3), int64(4), object(2)\n",
      "memory usage: 6.9+ MB\n"
     ]
    }
   ],
   "source": [
    "data.info()"
   ]
  },
  {
   "cell_type": "code",
   "execution_count": 5,
   "id": "8e13dbb4-f848-41a0-9e51-d9dc4d14aba0",
   "metadata": {},
   "outputs": [
    {
     "data": {
      "text/html": [
       "<div>\n",
       "<style scoped>\n",
       "    .dataframe tbody tr th:only-of-type {\n",
       "        vertical-align: middle;\n",
       "    }\n",
       "\n",
       "    .dataframe tbody tr th {\n",
       "        vertical-align: top;\n",
       "    }\n",
       "\n",
       "    .dataframe thead th {\n",
       "        text-align: right;\n",
       "    }\n",
       "</style>\n",
       "<table border=\"1\" class=\"dataframe\">\n",
       "  <thead>\n",
       "    <tr style=\"text-align: right;\">\n",
       "      <th></th>\n",
       "      <th>age</th>\n",
       "      <th>hypertension</th>\n",
       "      <th>heart_disease</th>\n",
       "      <th>bmi</th>\n",
       "      <th>HbA1c_level</th>\n",
       "      <th>blood_glucose_level</th>\n",
       "      <th>diabetes</th>\n",
       "    </tr>\n",
       "  </thead>\n",
       "  <tbody>\n",
       "    <tr>\n",
       "      <th>count</th>\n",
       "      <td>100000.000000</td>\n",
       "      <td>100000.00000</td>\n",
       "      <td>100000.000000</td>\n",
       "      <td>100000.000000</td>\n",
       "      <td>100000.000000</td>\n",
       "      <td>100000.000000</td>\n",
       "      <td>100000.000000</td>\n",
       "    </tr>\n",
       "    <tr>\n",
       "      <th>mean</th>\n",
       "      <td>41.885856</td>\n",
       "      <td>0.07485</td>\n",
       "      <td>0.039420</td>\n",
       "      <td>27.320767</td>\n",
       "      <td>5.527507</td>\n",
       "      <td>138.058060</td>\n",
       "      <td>0.085000</td>\n",
       "    </tr>\n",
       "    <tr>\n",
       "      <th>std</th>\n",
       "      <td>22.516840</td>\n",
       "      <td>0.26315</td>\n",
       "      <td>0.194593</td>\n",
       "      <td>6.636783</td>\n",
       "      <td>1.070672</td>\n",
       "      <td>40.708136</td>\n",
       "      <td>0.278883</td>\n",
       "    </tr>\n",
       "    <tr>\n",
       "      <th>min</th>\n",
       "      <td>0.080000</td>\n",
       "      <td>0.00000</td>\n",
       "      <td>0.000000</td>\n",
       "      <td>10.010000</td>\n",
       "      <td>3.500000</td>\n",
       "      <td>80.000000</td>\n",
       "      <td>0.000000</td>\n",
       "    </tr>\n",
       "    <tr>\n",
       "      <th>25%</th>\n",
       "      <td>24.000000</td>\n",
       "      <td>0.00000</td>\n",
       "      <td>0.000000</td>\n",
       "      <td>23.630000</td>\n",
       "      <td>4.800000</td>\n",
       "      <td>100.000000</td>\n",
       "      <td>0.000000</td>\n",
       "    </tr>\n",
       "    <tr>\n",
       "      <th>50%</th>\n",
       "      <td>43.000000</td>\n",
       "      <td>0.00000</td>\n",
       "      <td>0.000000</td>\n",
       "      <td>27.320000</td>\n",
       "      <td>5.800000</td>\n",
       "      <td>140.000000</td>\n",
       "      <td>0.000000</td>\n",
       "    </tr>\n",
       "    <tr>\n",
       "      <th>75%</th>\n",
       "      <td>60.000000</td>\n",
       "      <td>0.00000</td>\n",
       "      <td>0.000000</td>\n",
       "      <td>29.580000</td>\n",
       "      <td>6.200000</td>\n",
       "      <td>159.000000</td>\n",
       "      <td>0.000000</td>\n",
       "    </tr>\n",
       "    <tr>\n",
       "      <th>max</th>\n",
       "      <td>80.000000</td>\n",
       "      <td>1.00000</td>\n",
       "      <td>1.000000</td>\n",
       "      <td>95.690000</td>\n",
       "      <td>9.000000</td>\n",
       "      <td>300.000000</td>\n",
       "      <td>1.000000</td>\n",
       "    </tr>\n",
       "  </tbody>\n",
       "</table>\n",
       "</div>"
      ],
      "text/plain": [
       "                 age  hypertension  heart_disease            bmi  \\\n",
       "count  100000.000000  100000.00000  100000.000000  100000.000000   \n",
       "mean       41.885856       0.07485       0.039420      27.320767   \n",
       "std        22.516840       0.26315       0.194593       6.636783   \n",
       "min         0.080000       0.00000       0.000000      10.010000   \n",
       "25%        24.000000       0.00000       0.000000      23.630000   \n",
       "50%        43.000000       0.00000       0.000000      27.320000   \n",
       "75%        60.000000       0.00000       0.000000      29.580000   \n",
       "max        80.000000       1.00000       1.000000      95.690000   \n",
       "\n",
       "         HbA1c_level  blood_glucose_level       diabetes  \n",
       "count  100000.000000        100000.000000  100000.000000  \n",
       "mean        5.527507           138.058060       0.085000  \n",
       "std         1.070672            40.708136       0.278883  \n",
       "min         3.500000            80.000000       0.000000  \n",
       "25%         4.800000           100.000000       0.000000  \n",
       "50%         5.800000           140.000000       0.000000  \n",
       "75%         6.200000           159.000000       0.000000  \n",
       "max         9.000000           300.000000       1.000000  "
      ]
     },
     "execution_count": 5,
     "metadata": {},
     "output_type": "execute_result"
    }
   ],
   "source": [
    "data.describe()"
   ]
  },
  {
   "cell_type": "code",
   "execution_count": 6,
   "id": "8730780c-6083-4325-a59e-7aa1588197d9",
   "metadata": {},
   "outputs": [
    {
     "data": {
      "text/plain": [
       "gender                 0\n",
       "age                    0\n",
       "hypertension           0\n",
       "heart_disease          0\n",
       "smoking_history        0\n",
       "bmi                    0\n",
       "HbA1c_level            0\n",
       "blood_glucose_level    0\n",
       "diabetes               0\n",
       "dtype: int64"
      ]
     },
     "execution_count": 6,
     "metadata": {},
     "output_type": "execute_result"
    }
   ],
   "source": [
    "data.isnull().sum()"
   ]
  },
  {
   "cell_type": "markdown",
   "id": "f89abfb5-f668-46bc-9cde-b66745cfb556",
   "metadata": {},
   "source": [
    "## Compute average values for BMI, Hypertension, Glucose, and HbA1c.\n"
   ]
  },
  {
   "cell_type": "code",
   "execution_count": 7,
   "id": "3c3cf677-80cd-4b72-ad87-da2fb7c0a01a",
   "metadata": {},
   "outputs": [
    {
     "name": "stdout",
     "output_type": "stream",
     "text": [
      "Average value of BMI: 27.3207671\n"
     ]
    }
   ],
   "source": [
    "print(f'Average value of BMI: {float(data['bmi'].mean())}')"
   ]
  },
  {
   "cell_type": "code",
   "execution_count": 8,
   "id": "9442cc40-0b1b-4914-b9a8-7a83350948d5",
   "metadata": {},
   "outputs": [
    {
     "name": "stdout",
     "output_type": "stream",
     "text": [
      "Average value of Hypertension: 0.07485\n"
     ]
    }
   ],
   "source": [
    "print(f'Average value of Hypertension: {float(data['hypertension'].mean())}')"
   ]
  },
  {
   "cell_type": "code",
   "execution_count": 9,
   "id": "d9a25278-b264-4c0b-a000-b2c9417c7d5e",
   "metadata": {},
   "outputs": [
    {
     "name": "stdout",
     "output_type": "stream",
     "text": [
      "Average value of Glucose Level: 138.05806\n"
     ]
    }
   ],
   "source": [
    "print(f'Average value of Glucose Level: {float(data['blood_glucose_level'].mean())}')"
   ]
  },
  {
   "cell_type": "code",
   "execution_count": 10,
   "id": "018f2662-e481-4f95-8575-30940c59d2c7",
   "metadata": {},
   "outputs": [
    {
     "name": "stdout",
     "output_type": "stream",
     "text": [
      "Average value of HbA1c Level: 5.527507\n"
     ]
    }
   ],
   "source": [
    "print(f'Average value of HbA1c Level: {float(data['HbA1c_level'].mean())}')"
   ]
  },
  {
   "cell_type": "markdown",
   "id": "ecbecd41-2b9a-4b73-8620-64481be5e664",
   "metadata": {},
   "source": [
    "## Compute and interpret the correlation matrix among these health indicators"
   ]
  },
  {
   "cell_type": "code",
   "execution_count": 11,
   "id": "2cd4d340-bdbe-40e7-a1e5-5832e6efce9a",
   "metadata": {},
   "outputs": [
    {
     "name": "stdout",
     "output_type": "stream",
     "text": [
      "                          bmi  hypertension  blood_glucose_level  HbA1c_level\n",
      "bmi                  1.000000      0.147666             0.091261     0.082997\n",
      "hypertension         0.147666      1.000000             0.084429     0.080939\n",
      "blood_glucose_level  0.091261      0.084429             1.000000     0.166733\n",
      "HbA1c_level          0.082997      0.080939             0.166733     1.000000\n"
     ]
    }
   ],
   "source": [
    "rel = data[['bmi', 'hypertension', 'blood_glucose_level', 'HbA1c_level']].corr()\n",
    "print(rel)\n"
   ]
  },
  {
   "cell_type": "markdown",
   "id": "325472d7-2a08-4c59-ac0b-ce14ed1a6818",
   "metadata": {},
   "source": [
    "## Visualizations using Seaborn\n",
    "- ### Histogram of BMI distributions.\n",
    "- ### Boxplot of Glucose levels grouped by Diabetes Status.\n",
    "- ### Scatter plot with regression line: HbA1c vs Blood Glucose (sns.regplot).\n",
    "- ### Heatmap showing the correlation matrix.\n"
   ]
  },
  {
   "cell_type": "code",
   "execution_count": 43,
   "id": "84f6ddf3-7da9-4b22-a6d5-76f64c7ff970",
   "metadata": {},
   "outputs": [
    {
     "data": {
      "image/png": "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",
      "text/plain": [
       "<Figure size 640x480 with 1 Axes>"
      ]
     },
     "metadata": {},
     "output_type": "display_data"
    }
   ],
   "source": [
    "plt.close()\n",
    "sns.histplot(data = data, x = 'bmi' , bins=10)\n",
    "plt.savefig('graph1.png')"
   ]
  },
  {
   "cell_type": "code",
   "execution_count": 44,
   "id": "2c573441-c69f-477d-b878-545a05914301",
   "metadata": {},
   "outputs": [
    {
     "data": {
      "image/png": "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",
      "text/plain": [
       "<Figure size 640x480 with 1 Axes>"
      ]
     },
     "metadata": {},
     "output_type": "display_data"
    }
   ],
   "source": [
    "plt.close()\n",
    "sns.boxplot(data = data , x = 'diabetes' , y = 'blood_glucose_level')\n",
    "plt.savefig('graph2.png')"
   ]
  },
  {
   "cell_type": "code",
   "execution_count": 45,
   "id": "0d069ff4-549d-48e3-bd3f-e0b0150801ce",
   "metadata": {},
   "outputs": [
    {
     "data": {
      "image/png": "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",
      "text/plain": [
       "<Figure size 640x480 with 1 Axes>"
      ]
     },
     "metadata": {},
     "output_type": "display_data"
    }
   ],
   "source": [
    "plt.close()\n",
    "sns.regplot(x='blood_glucose_level', y='HbA1c_level', data=data)\n",
    "plt.title(\"Scatter Plot of HbA1c vs Blood Glucose\")\n",
    "plt.xlabel(\"Blood Glucose\")\n",
    "plt.ylabel(\"HbA1c\")\n",
    "plt.savefig('graph3.png')\n",
    "plt.show()\n"
   ]
  },
  {
   "cell_type": "code",
   "execution_count": 46,
   "id": "c72cd993-823d-465a-9270-3f2622281bb8",
   "metadata": {},
   "outputs": [
    {
     "data": {
      "image/png": "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",
      "text/plain": [
       "<Figure size 640x480 with 2 Axes>"
      ]
     },
     "metadata": {},
     "output_type": "display_data"
    }
   ],
   "source": [
    "plt.close()\n",
    "sns.heatmap(rel , annot=True ,cmap='tab20')\n",
    "plt.title(\"Correlation Matrix\")\n",
    "plt.xticks([0.5,1.5,2.5,3.5],['BMI', 'Hypertension' , 'Glucose', 'HbA1c'])\n",
    "plt.yticks([0.5,1.5,2.5,3.5],['BMI', 'Hypertension' , 'Glucose', 'HbA1c'])\n",
    "plt.savefig('graph4.png')\n",
    "plt.show()"
   ]
  },
  {
   "cell_type": "markdown",
   "id": "3651fdd7-8784-412d-8da4-7b636f76f0cc",
   "metadata": {},
   "source": [
    "#  Hypothesis Testing"
   ]
  },
  {
   "cell_type": "markdown",
   "id": "8d92674a-d831-47ce-9cc4-47675dda436b",
   "metadata": {},
   "source": [
    "## Z-Test"
   ]
  },
  {
   "cell_type": "code",
   "execution_count": 24,
   "id": "85ce2639-096f-4762-8fbd-9d2a498088fe",
   "metadata": {},
   "outputs": [
    {
     "name": "stdout",
     "output_type": "stream",
     "text": [
      "110.57931974055543\n",
      "p-value: 0.0\n",
      "Reject H₀\n",
      "p-value is: 0.0\n"
     ]
    }
   ],
   "source": [
    "mean = float(data['bmi'].mean())\n",
    "std = float(data['bmi'].std())\n",
    "sampsize = len(data['bmi'])\n",
    "claim_mean = 25\n",
    "z = (mean-claim_mean)/(std/np.sqrt(sampsize))\n",
    "print(z)\n",
    "\n",
    "cdf = 0.5 * (1 + math.erf(z / math.sqrt(2)))\n",
    "\n",
    "\n",
    "p_value = 2 * (1 - cdf)\n",
    "print(\"p-value:\", p_value)\n",
    "\n",
    "if p_value >= 0.05:\n",
    "    print(f\"\"\"Fail to reject H₀\n",
    "p-value is: {p_value}\"\"\")\n",
    "else:\n",
    "    print(f\"\"\"Reject H₀\n",
    "p-value is: {p_value}\"\"\")\n"
   ]
  },
  {
   "cell_type": "markdown",
   "id": "14f221f4-fd62-43e6-9917-4c53843243be",
   "metadata": {},
   "source": [
    "## T-Test"
   ]
  },
  {
   "cell_type": "code",
   "execution_count": 32,
   "id": "ce958f97-e46e-42b6-a2f5-b3d633e1fed7",
   "metadata": {},
   "outputs": [
    {
     "name": "stdout",
     "output_type": "stream",
     "text": [
      "Reject H₀ → Average age is significantly different.\n",
      "p-value is: 0.0\n"
     ]
    }
   ],
   "source": [
    "\n",
    "\n",
    "positive = data[data['diabetes'] == 1]['age']\n",
    "negative = data[data['diabetes'] == 0]['age']\n",
    "\n",
    "mean_pos = positive.mean()\n",
    "mean_neg = negative.mean()\n",
    "std_pos = positive.std()\n",
    "std_neg = negative.std()\n",
    "n_pos = len(positive)\n",
    "n_neg = len(negative)\n",
    "\n",
    "\n",
    "t = (mean_pos - mean_neg) / np.sqrt((std_pos**2/n_pos) + (std_neg**2/n_neg))\n",
    "\n",
    "df = ((std_pos**2/n_pos + std_neg**2/n_neg)**2) / (\n",
    "       ((std_pos**2/n_pos)**2)/(n_pos-1) + ((std_neg**2/n_neg)**2)/(n_neg-1) )\n",
    "\n",
    "\n",
    "cdf = 0.5 * (1 + math.erf(t / math.sqrt(2)))\n",
    "p_value = 2 * (1 - cdf)\n",
    "\n",
    "\n",
    "\n",
    "if p_value < 0.05:\n",
    "    print(f\"\"\"Reject H₀ → Average age is significantly different.\n",
    "p-value is: {p_value}\"\"\")\n",
    "else:\n",
    "    print(f\"\"\"Fail to reject H₀ → No significant difference in average age.\n",
    "p-value is: {p_value}\"\"\")\n",
    "\n"
   ]
  },
  {
   "cell_type": "markdown",
   "id": "78ac9e91-f772-49dc-b360-25d2f6615068",
   "metadata": {},
   "source": [
    "## Chi-Square Test"
   ]
  },
  {
   "cell_type": "code",
   "execution_count": 42,
   "id": "fa752fb7-bddb-47e2-9d03-04e517c981c0",
   "metadata": {},
   "outputs": [
    {
     "name": "stdout",
     "output_type": "stream",
     "text": [
      "Fail to reject H₀ → No relation\n"
     ]
    }
   ],
   "source": [
    "Obs_count = np.array([\n",
    "    [\n",
    "        ((data['smoking_history']=='never') & (data['diabetes']==0)).sum(),\n",
    "        ((data['smoking_history']=='never') & (data['diabetes']==1)).sum()\n",
    "    ],\n",
    "    [\n",
    "        ((data['smoking_history']=='current') & (data['diabetes']==0)).sum(),\n",
    "        ((data['smoking_history']=='current') & (data['diabetes']==1)).sum()\n",
    "    ]\n",
    "])\n",
    "chi2 = ((Obs_count - Obs_count.sum(axis=0) * Obs_count.sum(axis=1)[:,None] / Obs_count.sum())**2 / (Obs_count.sum(axis=0) * Obs_count.sum(axis=1)[:,None] / Obs_count.sum())).sum()\n",
    "if chi2 > 3.84:\n",
    "    print(\"Reject H₀ → Smoking related to Diabetes\")\n",
    "else:\n",
    "    print(\"Fail to reject H₀ → No relation\")"
   ]
  },
  {
   "cell_type": "code",
   "execution_count": 30,
   "id": "31c9342d-d980-43f7-a1b0-bf3ddaca3dfc",
   "metadata": {},
   "outputs": [
    {
     "data": {
      "text/html": [
       "<div>\n",
       "<style scoped>\n",
       "    .dataframe tbody tr th:only-of-type {\n",
       "        vertical-align: middle;\n",
       "    }\n",
       "\n",
       "    .dataframe tbody tr th {\n",
       "        vertical-align: top;\n",
       "    }\n",
       "\n",
       "    .dataframe thead th {\n",
       "        text-align: right;\n",
       "    }\n",
       "</style>\n",
       "<table border=\"1\" class=\"dataframe\">\n",
       "  <thead>\n",
       "    <tr style=\"text-align: right;\">\n",
       "      <th></th>\n",
       "      <th>gender</th>\n",
       "      <th>age</th>\n",
       "      <th>hypertension</th>\n",
       "      <th>heart_disease</th>\n",
       "      <th>smoking_history</th>\n",
       "      <th>bmi</th>\n",
       "      <th>HbA1c_level</th>\n",
       "      <th>blood_glucose_level</th>\n",
       "      <th>diabetes</th>\n",
       "    </tr>\n",
       "  </thead>\n",
       "  <tbody>\n",
       "    <tr>\n",
       "      <th>0</th>\n",
       "      <td>Female</td>\n",
       "      <td>80.0</td>\n",
       "      <td>0</td>\n",
       "      <td>1</td>\n",
       "      <td>never</td>\n",
       "      <td>25.19</td>\n",
       "      <td>6.6</td>\n",
       "      <td>140</td>\n",
       "      <td>0</td>\n",
       "    </tr>\n",
       "    <tr>\n",
       "      <th>1</th>\n",
       "      <td>Female</td>\n",
       "      <td>54.0</td>\n",
       "      <td>0</td>\n",
       "      <td>0</td>\n",
       "      <td>No Info</td>\n",
       "      <td>27.32</td>\n",
       "      <td>6.6</td>\n",
       "      <td>80</td>\n",
       "      <td>0</td>\n",
       "    </tr>\n",
       "    <tr>\n",
       "      <th>2</th>\n",
       "      <td>Male</td>\n",
       "      <td>28.0</td>\n",
       "      <td>0</td>\n",
       "      <td>0</td>\n",
       "      <td>never</td>\n",
       "      <td>27.32</td>\n",
       "      <td>5.7</td>\n",
       "      <td>158</td>\n",
       "      <td>0</td>\n",
       "    </tr>\n",
       "    <tr>\n",
       "      <th>3</th>\n",
       "      <td>Female</td>\n",
       "      <td>36.0</td>\n",
       "      <td>0</td>\n",
       "      <td>0</td>\n",
       "      <td>current</td>\n",
       "      <td>23.45</td>\n",
       "      <td>5.0</td>\n",
       "      <td>155</td>\n",
       "      <td>0</td>\n",
       "    </tr>\n",
       "    <tr>\n",
       "      <th>4</th>\n",
       "      <td>Male</td>\n",
       "      <td>76.0</td>\n",
       "      <td>1</td>\n",
       "      <td>1</td>\n",
       "      <td>current</td>\n",
       "      <td>20.14</td>\n",
       "      <td>4.8</td>\n",
       "      <td>155</td>\n",
       "      <td>0</td>\n",
       "    </tr>\n",
       "    <tr>\n",
       "      <th>...</th>\n",
       "      <td>...</td>\n",
       "      <td>...</td>\n",
       "      <td>...</td>\n",
       "      <td>...</td>\n",
       "      <td>...</td>\n",
       "      <td>...</td>\n",
       "      <td>...</td>\n",
       "      <td>...</td>\n",
       "      <td>...</td>\n",
       "    </tr>\n",
       "    <tr>\n",
       "      <th>99995</th>\n",
       "      <td>Female</td>\n",
       "      <td>80.0</td>\n",
       "      <td>0</td>\n",
       "      <td>0</td>\n",
       "      <td>No Info</td>\n",
       "      <td>27.32</td>\n",
       "      <td>6.2</td>\n",
       "      <td>90</td>\n",
       "      <td>0</td>\n",
       "    </tr>\n",
       "    <tr>\n",
       "      <th>99996</th>\n",
       "      <td>Female</td>\n",
       "      <td>2.0</td>\n",
       "      <td>0</td>\n",
       "      <td>0</td>\n",
       "      <td>No Info</td>\n",
       "      <td>17.37</td>\n",
       "      <td>6.5</td>\n",
       "      <td>100</td>\n",
       "      <td>0</td>\n",
       "    </tr>\n",
       "    <tr>\n",
       "      <th>99997</th>\n",
       "      <td>Male</td>\n",
       "      <td>66.0</td>\n",
       "      <td>0</td>\n",
       "      <td>0</td>\n",
       "      <td>former</td>\n",
       "      <td>27.83</td>\n",
       "      <td>5.7</td>\n",
       "      <td>155</td>\n",
       "      <td>0</td>\n",
       "    </tr>\n",
       "    <tr>\n",
       "      <th>99998</th>\n",
       "      <td>Female</td>\n",
       "      <td>24.0</td>\n",
       "      <td>0</td>\n",
       "      <td>0</td>\n",
       "      <td>never</td>\n",
       "      <td>35.42</td>\n",
       "      <td>4.0</td>\n",
       "      <td>100</td>\n",
       "      <td>0</td>\n",
       "    </tr>\n",
       "    <tr>\n",
       "      <th>99999</th>\n",
       "      <td>Female</td>\n",
       "      <td>57.0</td>\n",
       "      <td>0</td>\n",
       "      <td>0</td>\n",
       "      <td>current</td>\n",
       "      <td>22.43</td>\n",
       "      <td>6.6</td>\n",
       "      <td>90</td>\n",
       "      <td>0</td>\n",
       "    </tr>\n",
       "  </tbody>\n",
       "</table>\n",
       "<p>100000 rows × 9 columns</p>\n",
       "</div>"
      ],
      "text/plain": [
       "       gender   age  hypertension  heart_disease smoking_history    bmi  \\\n",
       "0      Female  80.0             0              1           never  25.19   \n",
       "1      Female  54.0             0              0         No Info  27.32   \n",
       "2        Male  28.0             0              0           never  27.32   \n",
       "3      Female  36.0             0              0         current  23.45   \n",
       "4        Male  76.0             1              1         current  20.14   \n",
       "...       ...   ...           ...            ...             ...    ...   \n",
       "99995  Female  80.0             0              0         No Info  27.32   \n",
       "99996  Female   2.0             0              0         No Info  17.37   \n",
       "99997    Male  66.0             0              0          former  27.83   \n",
       "99998  Female  24.0             0              0           never  35.42   \n",
       "99999  Female  57.0             0              0         current  22.43   \n",
       "\n",
       "       HbA1c_level  blood_glucose_level  diabetes  \n",
       "0              6.6                  140         0  \n",
       "1              6.6                   80         0  \n",
       "2              5.7                  158         0  \n",
       "3              5.0                  155         0  \n",
       "4              4.8                  155         0  \n",
       "...            ...                  ...       ...  \n",
       "99995          6.2                   90         0  \n",
       "99996          6.5                  100         0  \n",
       "99997          5.7                  155         0  \n",
       "99998          4.0                  100         0  \n",
       "99999          6.6                   90         0  \n",
       "\n",
       "[100000 rows x 9 columns]"
      ]
     },
     "execution_count": 30,
     "metadata": {},
     "output_type": "execute_result"
    }
   ],
   "source": [
    "data"
   ]
  },
  {
   "cell_type": "code",
   "execution_count": 39,
   "id": "cac7442f-b23b-4852-bfc1-5bfd268950cd",
   "metadata": {},
   "outputs": [
    {
     "data": {
      "text/plain": [
       "array([[31749,  3346],\n",
       "       [ 8338,   948]])"
      ]
     },
     "execution_count": 39,
     "metadata": {},
     "output_type": "execute_result"
    }
   ],
   "source": [
    "Obs_count"
   ]
  },
  {
   "cell_type": "code",
   "execution_count": null,
   "id": "e258d4af-c2c5-4a1f-a46f-ac436356622e",
   "metadata": {},
   "outputs": [],
   "source": []
  }
 ],
 "metadata": {
  "kernelspec": {
   "display_name": "Python 3 (ipykernel)",
   "language": "python",
   "name": "python3"
  },
  "language_info