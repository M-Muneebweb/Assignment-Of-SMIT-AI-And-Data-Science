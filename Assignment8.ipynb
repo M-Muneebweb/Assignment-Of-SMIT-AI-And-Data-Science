{
 "cells": [
  {
   "cell_type": "markdown",
   "id": "28b39a03-f091-4212-97f5-8155c3077be4",
   "metadata": {},
   "source": [
    "# Task\n"
   ]
  },
  {
   "cell_type": "markdown",
   "id": "99408800-5353-40a5-800c-6eaa4fd735cf",
   "metadata": {},
   "source": [
    "## Import Libraries"
   ]
  },
  {
   "cell_type": "code",
   "execution_count": 12,
   "id": "43486632-9d21-4eb1-88f8-0b3b924488e6",
   "metadata": {},
   "outputs": [],
   "source": [
    "import numpy as np\n",
    "import pandas as pd\n",
    "import matplotlib.pyplot as plt\n",
    "import seaborn as sns"
   ]
  },
  {
   "cell_type": "markdown",
   "id": "4022315c-6908-4c56-adde-9e87b7d28deb",
   "metadata": {},
   "source": [
    "## Import Data"
   ]
  },
  {
   "cell_type": "code",
   "execution_count": 13,
   "id": "427c0946-5afc-40b6-ab1c-379ede595742",
   "metadata": {},
   "outputs": [],
   "source": [
    "data  = pd.read_csv('student_engagement_data_10000.csv')"
   ]
  },
  {
   "cell_type": "markdown",
   "id": "96e218dd-3f3e-4dce-9bdf-0af13e3076a4",
   "metadata": {},
   "source": [
    "## Describe data using .info() method"
   ]
  },
  {
   "cell_type": "code",
   "execution_count": 14,
   "id": "2ab407f7-9262-43a8-ade0-b09d338267e8",
   "metadata": {},
   "outputs": [
    {
     "name": "stdout",
     "output_type": "stream",
     "text": [
      "<class 'pandas.core.frame.DataFrame'>\n",
      "RangeIndex: 10000 entries, 0 to 9999\n",
      "Data columns (total 10 columns):\n",
      " #   Column                    Non-Null Count  Dtype \n",
      "---  ------                    --------------  ----- \n",
      " 0   Student ID                10000 non-null  int64 \n",
      " 1   Session ID                10000 non-null  int64 \n",
      " 2   Date                      10000 non-null  object\n",
      " 3   EEG Data (PSD Features)   10000 non-null  object\n",
      " 4   Engagement Level          10000 non-null  object\n",
      " 5   Attention Level           10000 non-null  object\n",
      " 6   Internet Connectivity     10000 non-null  object\n",
      " 7   Adaptivity Level          10000 non-null  object\n",
      " 8   Learning Mode Prediction  10000 non-null  object\n",
      " 9   Performance Metrics       10000 non-null  int64 \n",
      "dtypes: int64(3), object(7)\n",
      "memory usage: 781.4+ KB\n"
     ]
    }
   ],
   "source": [
    "data.info()"
   ]
  },
  {
   "cell_type": "markdown",
   "id": "2bfb336d-c17c-4d8e-8917-b74ea4f7a0ad",
   "metadata": {},
   "source": [
    "## Describe data using .Describe() method"
   ]
  },
  {
   "cell_type": "code",
   "execution_count": 15,
   "id": "0d919e45-066b-43f5-8205-b1c7143ec463",
   "metadata": {},
   "outputs": [
    {
     "data": {
      "text/html": [
       "<div>\n",
       "<style scoped>\n",
       "    .dataframe tbody tr th:only-of-type {\n",
       "        vertical-align: middle;\n",
       "    }\n",
       "\n",
       "    .dataframe tbody tr th {\n",
       "        vertical-align: top;\n",
       "    }\n",
       "\n",
       "    .dataframe thead th {\n",
       "        text-align: right;\n",
       "    }\n",
       "</style>\n",
       "<table border=\"1\" class=\"dataframe\">\n",
       "  <thead>\n",
       "    <tr style=\"text-align: right;\">\n",
       "      <th></th>\n",
       "      <th>Student ID</th>\n",
       "      <th>Session ID</th>\n",
       "      <th>Performance Metrics</th>\n",
       "    </tr>\n",
       "  </thead>\n",
       "  <tbody>\n",
       "    <tr>\n",
       "      <th>count</th>\n",
       "      <td>10000.00000</td>\n",
       "      <td>10000.000000</td>\n",
       "      <td>10000.000000</td>\n",
       "    </tr>\n",
       "    <tr>\n",
       "      <th>mean</th>\n",
       "      <td>5000.50000</td>\n",
       "      <td>149.762700</td>\n",
       "      <td>74.674300</td>\n",
       "    </tr>\n",
       "    <tr>\n",
       "      <th>std</th>\n",
       "      <td>2886.89568</td>\n",
       "      <td>28.783232</td>\n",
       "      <td>14.383404</td>\n",
       "    </tr>\n",
       "    <tr>\n",
       "      <th>min</th>\n",
       "      <td>1.00000</td>\n",
       "      <td>100.000000</td>\n",
       "      <td>50.000000</td>\n",
       "    </tr>\n",
       "    <tr>\n",
       "      <th>25%</th>\n",
       "      <td>2500.75000</td>\n",
       "      <td>125.000000</td>\n",
       "      <td>62.000000</td>\n",
       "    </tr>\n",
       "    <tr>\n",
       "      <th>50%</th>\n",
       "      <td>5000.50000</td>\n",
       "      <td>150.000000</td>\n",
       "      <td>75.000000</td>\n",
       "    </tr>\n",
       "    <tr>\n",
       "      <th>75%</th>\n",
       "      <td>7500.25000</td>\n",
       "      <td>174.000000</td>\n",
       "      <td>87.000000</td>\n",
       "    </tr>\n",
       "    <tr>\n",
       "      <th>max</th>\n",
       "      <td>10000.00000</td>\n",
       "      <td>199.000000</td>\n",
       "      <td>99.000000</td>\n",
       "    </tr>\n",
       "  </tbody>\n",
       "</table>\n",
       "</div>"
      ],
      "text/plain": [
       "        Student ID    Session ID  Performance Metrics\n",
       "count  10000.00000  10000.000000         10000.000000\n",
       "mean    5000.50000    149.762700            74.674300\n",
       "std     2886.89568     28.783232            14.383404\n",
       "min        1.00000    100.000000            50.000000\n",
       "25%     2500.75000    125.000000            62.000000\n",
       "50%     5000.50000    150.000000            75.000000\n",
       "75%     7500.25000    174.000000            87.000000\n",
       "max    10000.00000    199.000000            99.000000"
      ]
     },
     "execution_count": 15,
     "metadata": {},
     "output_type": "execute_result"
    }
   ],
   "source": [
    "data.describe()"
   ]
  },
  {
   "cell_type": "markdown",
   "id": "026bf9c0-1fbf-4d3f-af23-6deef7407550",
   "metadata": {},
   "source": [
    "## Count nan Values in each coloumns"
   ]
  },
  {
   "cell_type": "code",
   "execution_count": 16,
   "id": "c8e120a0-2a67-401a-94fb-093860c49a63",
   "metadata": {},
   "outputs": [
    {
     "data": {
      "text/plain": [
       "Student ID                  0\n",
       "Session ID                  0\n",
       "Date                        0\n",
       "EEG Data (PSD Features)     0\n",
       "Engagement Level            0\n",
       "Attention Level             0\n",
       "Internet Connectivity       0\n",
       "Adaptivity Level            0\n",
       "Learning Mode Prediction    0\n",
       "Performance Metrics         0\n",
       "dtype: int64"
      ]
     },
     "execution_count": 16,
     "metadata": {},
     "output_type": "execute_result"
    }
   ],
   "source": [
    "data.isna().sum()"
   ]
  },
  {
   "cell_type": "markdown",
   "id": "565b6f21-be39-41a4-8b45-9521e44a4915",
   "metadata": {},
   "source": [
    "## Value counts of categorical columns like learning_mode, student_id, etc."
   ]
  },
  {
   "cell_type": "code",
   "execution_count": 17,
   "id": "9d3b0ece-8fd2-4cd3-9717-b118e73c8c32",
   "metadata": {},
   "outputs": [
    {
     "name": "stdout",
     "output_type": "stream",
     "text": [
      "Engagement Level Value Count High: 3277\n",
      "Engagement Level Value Count Low: 3366\n",
      "Engagement Level Value Count Moderate: 3357\n",
      "\n",
      "\n",
      "Attention Level Value Count High: 3317\n",
      "Attention Level Value Count Moderate: 3385\n",
      "Attention Level Value Count Low: 3298\n",
      "\n",
      "\n",
      "Internet Connectivity Value Count High (Mobile/Wi-Fi): 3321\n",
      "Internet Connectivity Value Count Moderate (Wi-Fi): 3389\n",
      "Internet Connectivity Value Count Low (Mobile): 3290\n",
      "\n",
      "\n",
      "Adaptivity Level Value Count Moderate: 3360\n",
      "Adaptivity Level Value Count High: 3309\n",
      "Adaptivity Level Value Count Low: 3331\n",
      "\n",
      "\n",
      "Learning Mode Prediction Value Count Visual Learner: 3300\n",
      "Learning Mode Prediction Value Count Auditory Learner: 3326\n",
      "Learning Mode Prediction Value Count Kinesthetic Learner: 3374\n"
     ]
    }
   ],
   "source": [
    "for i in data['Engagement Level'].unique():\n",
    "   print(f\"Engagement Level Value Count {i}: {data['Engagement Level'].tolist().count(i)}\")\n",
    "print()\n",
    "print()\n",
    "for i in data['Attention Level'].unique():\n",
    "   print(f\"Attention Level Value Count {i}: {data['Attention Level'].tolist().count(i)}\")\n",
    "print()\n",
    "print()\n",
    "for i in data['Internet Connectivity'].unique():\n",
    "   print(f\"Internet Connectivity Value Count {i}: {data['Internet Connectivity'].tolist().count(i)}\")\n",
    "print()\n",
    "print()\n",
    "for i in data['Adaptivity Level'].unique():\n",
    "   print(f\"Adaptivity Level Value Count {i}: {data['Adaptivity Level'].tolist().count(i)}\")\n",
    "print()\n",
    "print()\n",
    "for i in data['Learning Mode Prediction'].unique():\n",
    "   print(f\"Learning Mode Prediction Value Count {i}: {data['Learning Mode Prediction'].tolist().count(i)}\")\n"
   ]
  },
  {
   "cell_type": "code",
   "execution_count": 18,
   "id": "7c0ad4a2-c2e5-4267-acd1-d5b02b2a3ff9",
   "metadata": {},
   "outputs": [
    {
     "data": {
      "text/html": [
       "<div>\n",
       "<style scoped>\n",
       "    .dataframe tbody tr th:only-of-type {\n",
       "        vertical-align: middle;\n",
       "    }\n",
       "\n",
       "    .dataframe tbody tr th {\n",
       "        vertical-align: top;\n",
       "    }\n",
       "\n",
       "    .dataframe thead th {\n",
       "        text-align: right;\n",
       "    }\n",
       "</style>\n",
       "<table border=\"1\" class=\"dataframe\">\n",
       "  <thead>\n",
       "    <tr style=\"text-align: right;\">\n",
       "      <th></th>\n",
       "      <th>Student ID</th>\n",
       "      <th>Session ID</th>\n",
       "      <th>Date</th>\n",
       "      <th>EEG Data (PSD Features)</th>\n",
       "      <th>Engagement Level</th>\n",
       "      <th>Attention Level</th>\n",
       "      <th>Internet Connectivity</th>\n",
       "      <th>Adaptivity Level</th>\n",
       "      <th>Learning Mode Prediction</th>\n",
       "      <th>Performance Metrics</th>\n",
       "    </tr>\n",
       "  </thead>\n",
       "  <tbody>\n",
       "    <tr>\n",
       "      <th>0</th>\n",
       "      <td>1</td>\n",
       "      <td>183</td>\n",
       "      <td>2025-01-20</td>\n",
       "      <td>[0.02336871035675725, 0.14892576656473, 0.4845...</td>\n",
       "      <td>High</td>\n",
       "      <td>High</td>\n",
       "      <td>High (Mobile/Wi-Fi)</td>\n",
       "      <td>Moderate</td>\n",
       "      <td>Visual Learner</td>\n",
       "      <td>84</td>\n",
       "    </tr>\n",
       "    <tr>\n",
       "      <th>1</th>\n",
       "      <td>2</td>\n",
       "      <td>121</td>\n",
       "      <td>2025-01-20</td>\n",
       "      <td>[0.3587673311624021, 0.8537981137219391, 0.420...</td>\n",
       "      <td>Low</td>\n",
       "      <td>High</td>\n",
       "      <td>Moderate (Wi-Fi)</td>\n",
       "      <td>High</td>\n",
       "      <td>Auditory Learner</td>\n",
       "      <td>82</td>\n",
       "    </tr>\n",
       "    <tr>\n",
       "      <th>2</th>\n",
       "      <td>3</td>\n",
       "      <td>169</td>\n",
       "      <td>2025-01-10</td>\n",
       "      <td>[0.7420744093003028, 0.9072353407615483, 0.122...</td>\n",
       "      <td>Moderate</td>\n",
       "      <td>High</td>\n",
       "      <td>Low (Mobile)</td>\n",
       "      <td>Low</td>\n",
       "      <td>Auditory Learner</td>\n",
       "      <td>83</td>\n",
       "    </tr>\n",
       "    <tr>\n",
       "      <th>3</th>\n",
       "      <td>4</td>\n",
       "      <td>132</td>\n",
       "      <td>2025-01-20</td>\n",
       "      <td>[0.5596059164442914, 0.4645215049524961, 0.062...</td>\n",
       "      <td>High</td>\n",
       "      <td>Moderate</td>\n",
       "      <td>Low (Mobile)</td>\n",
       "      <td>Moderate</td>\n",
       "      <td>Visual Learner</td>\n",
       "      <td>66</td>\n",
       "    </tr>\n",
       "    <tr>\n",
       "      <th>4</th>\n",
       "      <td>5</td>\n",
       "      <td>190</td>\n",
       "      <td>2025-01-18</td>\n",
       "      <td>[0.15041646487754368, 0.7331633184349893, 0.86...</td>\n",
       "      <td>High</td>\n",
       "      <td>High</td>\n",
       "      <td>High (Mobile/Wi-Fi)</td>\n",
       "      <td>Moderate</td>\n",
       "      <td>Auditory Learner</td>\n",
       "      <td>93</td>\n",
       "    </tr>\n",
       "    <tr>\n",
       "      <th>...</th>\n",
       "      <td>...</td>\n",
       "      <td>...</td>\n",
       "      <td>...</td>\n",
       "      <td>...</td>\n",
       "      <td>...</td>\n",
       "      <td>...</td>\n",
       "      <td>...</td>\n",
       "      <td>...</td>\n",
       "      <td>...</td>\n",
       "      <td>...</td>\n",
       "    </tr>\n",
       "    <tr>\n",
       "      <th>9995</th>\n",
       "      <td>9996</td>\n",
       "      <td>136</td>\n",
       "      <td>2025-01-22</td>\n",
       "      <td>[0.509843622253183, 0.06323592642360798, 0.009...</td>\n",
       "      <td>High</td>\n",
       "      <td>High</td>\n",
       "      <td>High (Mobile/Wi-Fi)</td>\n",
       "      <td>Low</td>\n",
       "      <td>Auditory Learner</td>\n",
       "      <td>63</td>\n",
       "    </tr>\n",
       "    <tr>\n",
       "      <th>9996</th>\n",
       "      <td>9997</td>\n",
       "      <td>123</td>\n",
       "      <td>2025-01-28</td>\n",
       "      <td>[0.7755554254921619, 0.7736343505972849, 0.406...</td>\n",
       "      <td>High</td>\n",
       "      <td>High</td>\n",
       "      <td>Moderate (Wi-Fi)</td>\n",
       "      <td>High</td>\n",
       "      <td>Auditory Learner</td>\n",
       "      <td>79</td>\n",
       "    </tr>\n",
       "    <tr>\n",
       "      <th>9997</th>\n",
       "      <td>9998</td>\n",
       "      <td>162</td>\n",
       "      <td>2025-01-14</td>\n",
       "      <td>[0.1584875069299465, 0.13541608777847447, 0.09...</td>\n",
       "      <td>Low</td>\n",
       "      <td>Low</td>\n",
       "      <td>Low (Mobile)</td>\n",
       "      <td>High</td>\n",
       "      <td>Visual Learner</td>\n",
       "      <td>66</td>\n",
       "    </tr>\n",
       "    <tr>\n",
       "      <th>9998</th>\n",
       "      <td>9999</td>\n",
       "      <td>154</td>\n",
       "      <td>2025-01-15</td>\n",
       "      <td>[0.930660706451791, 0.9327867175259232, 0.2261...</td>\n",
       "      <td>Moderate</td>\n",
       "      <td>Moderate</td>\n",
       "      <td>Low (Mobile)</td>\n",
       "      <td>Moderate</td>\n",
       "      <td>Auditory Learner</td>\n",
       "      <td>86</td>\n",
       "    </tr>\n",
       "    <tr>\n",
       "      <th>9999</th>\n",
       "      <td>10000</td>\n",
       "      <td>128</td>\n",
       "      <td>2025-01-16</td>\n",
       "      <td>[0.8174131233843306, 0.5707144747367641, 0.551...</td>\n",
       "      <td>Moderate</td>\n",
       "      <td>Low</td>\n",
       "      <td>Moderate (Wi-Fi)</td>\n",
       "      <td>Low</td>\n",
       "      <td>Visual Learner</td>\n",
       "      <td>53</td>\n",
       "    </tr>\n",
       "  </tbody>\n",
       "</table>\n",
       "<p>10000 rows × 10 columns</p>\n",
       "</div>"
      ],
      "text/plain": [
       "      Student ID  Session ID        Date  \\\n",
       "0              1         183  2025-01-20   \n",
       "1              2         121  2025-01-20   \n",
       "2              3         169  2025-01-10   \n",
       "3              4         132  2025-01-20   \n",
       "4              5         190  2025-01-18   \n",
       "...          ...         ...         ...   \n",
       "9995        9996         136  2025-01-22   \n",
       "9996        9997         123  2025-01-28   \n",
       "9997        9998         162  2025-01-14   \n",
       "9998        9999         154  2025-01-15   \n",
       "9999       10000         128  2025-01-16   \n",
       "\n",
       "                                EEG Data (PSD Features) Engagement Level  \\\n",
       "0     [0.02336871035675725, 0.14892576656473, 0.4845...             High   \n",
       "1     [0.3587673311624021, 0.8537981137219391, 0.420...              Low   \n",
       "2     [0.7420744093003028, 0.9072353407615483, 0.122...         Moderate   \n",
       "3     [0.5596059164442914, 0.4645215049524961, 0.062...             High   \n",
       "4     [0.15041646487754368, 0.7331633184349893, 0.86...             High   \n",
       "...                                                 ...              ...   \n",
       "9995  [0.509843622253183, 0.06323592642360798, 0.009...             High   \n",
       "9996  [0.7755554254921619, 0.7736343505972849, 0.406...             High   \n",
       "9997  [0.1584875069299465, 0.13541608777847447, 0.09...              Low   \n",
       "9998  [0.930660706451791, 0.9327867175259232, 0.2261...         Moderate   \n",
       "9999  [0.8174131233843306, 0.5707144747367641, 0.551...         Moderate   \n",
       "\n",
       "     Attention Level Internet Connectivity Adaptivity Level  \\\n",
       "0               High   High (Mobile/Wi-Fi)         Moderate   \n",
       "1               High      Moderate (Wi-Fi)             High   \n",
       "2               High          Low (Mobile)              Low   \n",
       "3           Moderate          Low (Mobile)         Moderate   \n",
       "4               High   High (Mobile/Wi-Fi)         Moderate   \n",
       "...              ...                   ...              ...   \n",
       "9995            High   High (Mobile/Wi-Fi)              Low   \n",
       "9996            High      Moderate (Wi-Fi)             High   \n",
       "9997             Low          Low (Mobile)             High   \n",
       "9998        Moderate          Low (Mobile)         Moderate   \n",
       "9999             Low      Moderate (Wi-Fi)              Low   \n",
       "\n",
       "     Learning Mode Prediction  Performance Metrics  \n",
       "0              Visual Learner                   84  \n",
       "1            Auditory Learner                   82  \n",
       "2            Auditory Learner                   83  \n",
       "3              Visual Learner                   66  \n",
       "4            Auditory Learner                   93  \n",
       "...                       ...                  ...  \n",
       "9995         Auditory Learner                   63  \n",
       "9996         Auditory Learner                   79  \n",
       "9997           Visual Learner                   66  \n",
       "9998         Auditory Learner                   86  \n",
       "9999           Visual Learner                   53  \n",
       "\n",
       "[10000 rows x 10 columns]"
      ]
     },
     "execution_count": 18,
     "metadata": {},
     "output_type": "execute_result"
    }
   ],
   "source": [
    "data"
   ]
  },
  {
   "cell_type": "markdown",
   "id": "04d5f489-2afe-4b59-a948-eb92441374fa",
   "metadata": {},
   "source": [
    "## Plot line charts for daily trends."
   ]
  },
  {
   "cell_type": "code",
   "execution_count": 19,
   "id": "3116b68f-19c6-4d37-8532-174c855250af",
   "metadata": {
    "scrolled": true
   },
   "outputs": [
    {
     "data": {
      "image/png": "[encoded data removed]",
      "text/plain": [
       "<Figure size 640x480 with 1 Axes>"
      ]
     },
     "metadata": {},
     "output_type": "display_data"
    }
   ],
   "source": [
    "plt.close()\n",
    "\n",
    "x = data['Performance Metrics']\n",
    "y = data['Date']\n",
    "\n",
    "plt.plot(x,y)\n",
    "plt.show()"
   ]
  },
  {
   "cell_type": "markdown",
   "id": "32e3c43a-70cd-42db-9021-849309fc221f",
   "metadata": {},
   "source": [
    "## A bar chart to compare modes."
   ]
  },
  {
   "cell_type": "code",
   "execution_count": 21,
   "id": "9db4d21b-9f0e-49c8-bfc9-9694f1207bcb",
   "metadata": {},
   "outputs": [
    {
     "data": {
      "image/png": "[encoded data removed]",
      "text/plain": [
       "<Figure size 1500x2000 with 5 Axes>"
      ]
     },
     "metadata": {},
     "output_type": "display_data"
    }
   ],
   "source": [
    "plt.close()\n",
    "plt.figure(figsize=(15, 20))\n",
    "\n",
    "\n",
    "plt.subplot(3,2,1)\n",
    "sns.histplot(x = 'Learning Mode Prediction' , data = data)\n",
    "plt.title('A bar chart to compare modes by Learning Mode Prediction')\n",
    "plt.xlabel('Modes')\n",
    "plt.ylabel('Counts')\n",
    "\n",
    "\n",
    "\n",
    "plt.subplot(3,2,2)\n",
    "sns.histplot(x = 'Internet Connectivity' , data = data)\n",
    "plt.title('A bar chart to compare modes by Internet Connectivity')\n",
    "plt.xlabel('Modes')\n",
    "plt.ylabel('Counts')\n",
    "\n",
    "\n",
    "\n",
    "plt.subplot(3,2,3)\n",
    "sns.histplot(x = 'Engagement Level' , data = data)\n",
    "plt.title('A bar chart to compare modes by Engagement Level')\n",
    "plt.xlabel('Modes')\n",
    "plt.ylabel('Counts')\n",
    "\n",
    "\n",
    "\n",
    "plt.subplot(3,2,4)\n",
    "sns.histplot(x = 'Attention Level' , data = data)\n",
    "plt.title('A bar chart to compare modes by Attention Level')\n",
    "plt.xlabel('Modes')\n",
    "plt.ylabel('Counts')\n",
    "\n",
    "\n",
    "\n",
    "plt.subplot(3,2,5)\n",
    "sns.histplot(x = 'Adaptivity Level' , data = data)\n",
    "plt.title('A bar chart to compare modes by Adaptivity Level')\n",
    "plt.xlabel('Modes')\n",
    "plt.ylabel('Counts')\n",
    "plt.show()"
   ]
  },
  {
   "cell_type": "markdown",
   "id": "6d521709-807c-43ec-a551-c4a3e543dba0",
   "metadata": {},
   "source": [
    "## Group by date and calculate average Attention Level and Engagement Level."
   ]
  },
  {
   "cell_type": "code",
   "execution_count": 22,
   "id": "52bf2e13-5b55-41da-8214-d5ad6dd74597",
   "metadata": {},
   "outputs": [
    {
     "name": "stdout",
     "output_type": "stream",
     "text": [
      "2025-01-20 Mean Attention Level : Moderate\n",
      "2025-01-20 Mean Engagement Level : Moderate\n",
      "2025-01-10 Mean Attention Level : Moderate\n",
      "2025-01-10 Mean Engagement Level : Moderate\n",
      "2025-01-18 Mean Attention Level : Moderate\n",
      "2025-01-18 Mean Engagement Level : Moderate\n",
      "2025-01-01 Mean Attention Level : Moderate\n",
      "2025-01-01 Mean Engagement Level : Moderate\n",
      "2025-01-11 Mean Attention Level : Moderate\n",
      "2025-01-11 Mean Engagement Level : Moderate\n",
      "2025-01-08 Mean Attention Level : Moderate\n",
      "2025-01-08 Mean Engagement Level : Moderate\n",
      "2025-01-02 Mean Attention Level : Moderate\n",
      "2025-01-02 Mean Engagement Level : Moderate\n",
      "2025-01-06 Mean Attention Level : Moderate\n",
      "2025-01-06 Mean Engagement Level : Moderate\n",
      "2025-01-21 Mean Attention Level : Moderate\n",
      "2025-01-21 Mean Engagement Level : Moderate\n",
      "2025-01-24 Mean Attention Level : Moderate\n",
      "2025-01-24 Mean Engagement Level : Moderate\n",
      "2025-01-25 Mean Attention Level : Moderate\n",
      "2025-01-25 Mean Engagement Level : Moderate\n",
      "2025-01-05 Mean Attention Level : Moderate\n",
      "2025-01-05 Mean Engagement Level : Moderate\n",
      "2025-01-26 Mean Attention Level : Moderate\n",
      "2025-01-26 Mean Engagement Level : Moderate\n",
      "2025-01-13 Mean Attention Level : Moderate\n",
      "2025-01-13 Mean Engagement Level : Moderate\n",
      "2025-01-22 Mean Attention Level : Moderate\n",
      "2025-01-22 Mean Engagement Level : Moderate\n",
      "2025-01-19 Mean Attention Level : Moderate\n",
      "2025-01-19 Mean Engagement Level : Moderate\n",
      "2025-01-07 Mean Attention Level : Moderate\n",
      "2025-01-07 Mean Engagement Level : Moderate\n",
      "2025-01-12 Mean Attention Level : Moderate\n",
      "2025-01-12 Mean Engagement Level : Moderate\n",
      "2025-01-14 Mean Attention Level : Moderate\n",
      "2025-01-14 Mean Engagement Level : Moderate\n",
      "2025-01-27 Mean Attention Level : Moderate\n",
      "2025-01-27 Mean Engagement Level : Moderate\n",
      "2025-01-17 Mean Attention Level : Moderate\n",
      "2025-01-17 Mean Engagement Level : Moderate\n",
      "2025-01-28 Mean Attention Level : Moderate\n",
      "2025-01-28 Mean Engagement Level : Moderate\n",
      "2025-01-04 Mean Attention Level : Moderate\n",
      "2025-01-04 Mean Engagement Level : Moderate\n",
      "2025-01-15 Mean Attention Level : Moderate\n",
      "2025-01-15 Mean Engagement Level : Moderate\n",
      "2025-01-16 Mean Attention Level : Moderate\n",
      "2025-01-16 Mean Engagement Level : Moderate\n",
      "2025-01-29 Mean Attention Level : Moderate\n",
      "2025-01-29 Mean Engagement Level : Moderate\n",
      "2025-01-09 Mean Attention Level : Moderate\n",
      "2025-01-09 Mean Engagement Level : Moderate\n",
      "2025-01-03 Mean Attention Level : Moderate\n",
      "2025-01-03 Mean Engagement Level : Moderate\n",
      "2025-01-30 Mean Attention Level : Moderate\n",
      "2025-01-30 Mean Engagement Level : Moderate\n",
      "2025-01-23 Mean Attention Level : Moderate\n",
      "2025-01-23 Mean Engagement Level : Moderate\n"
     ]
    }
   ],
   "source": [
    "def masking(value):\n",
    "    if value == 'Low':\n",
    "        return 1\n",
    "    elif value == 'Moderate':\n",
    "        return 2\n",
    "    elif value == 'High':\n",
    "        return 3\n",
    "    else:\n",
    "        return 0\n",
    "\n",
    "\n",
    "\n",
    "data['Engagement Level num'] = data['Engagement Level'].apply(masking)\n",
    "data['Attention Level num'] = data['Attention Level'].apply(masking)\n",
    "data['Adaptivity Level num'] = data['Adaptivity Level'].apply(masking)\n",
    "\n",
    "data.drop('Engagement Level' , axis = 1  , inplace = True)\n",
    "data.drop('Attention Level' , axis = 1  , inplace = True)\n",
    "data.drop('Adaptivity Level' , axis = 1  , inplace = True)\n",
    "\n",
    "data.rename(columns = {'Engagement Level num':'Engagement Level'} , inplace = True)\n",
    "data.rename(columns = {'Attention Level num':'Attention Level'} , inplace = True)\n",
    "data.rename(columns = {'Adaptivity Level num':'Adaptivity Level'} , inplace = True)\n",
    "\n",
    "group_by_dated = data.groupby('Date')\n",
    "\n",
    "group_names = data['Date'].unique().tolist()\n",
    "\n",
    "\n",
    "\n",
    "mean_dic = {}\n",
    "for i in group_names:\n",
    "    for a in range(1,3):\n",
    "        if a == 1:\n",
    "            if round(group_by_dated.get_group(i)['Attention Level'].mean().tolist()) == 1:\n",
    "                check = 'Low'\n",
    "            elif round(group_by_dated.get_group(i)['Attention Level'].mean().tolist()) == 2:\n",
    "                check = 'Moderate'\n",
    "            elif round(group_by_dated.get_group(i)['Attention Level'].mean().tolist()) == 3:\n",
    "                check = 'High'\n",
    "            else:\n",
    "                check = 'Unknown'\n",
    "            mean_dic[f'{i} Mean Attention Level'] = check\n",
    "            \n",
    "        else:\n",
    "            if round(group_by_dated.get_group(i)['Engagement Level'].mean().tolist()) == 1:\n",
    "                check = 'Low'\n",
    "            elif round(group_by_dated.get_group(i)['Engagement Level'].mean().tolist()) == 2:\n",
    "                check = 'Moderate'\n",
    "            elif round(group_by_dated.get_group(i)['Engagement Level'].mean().tolist()) == 3:\n",
    "                check = 'High'\n",
    "            else:\n",
    "                check = 'Unknown'\n",
    "            mean_dic[f'{i} Mean Engagement Level'] = check\n",
    "for key , val in mean_dic.items():\n",
    "    print(f\"{key} : {val}\")"
   ]
  },
  {
   "cell_type": "markdown",
   "id": "d60957c7-210f-4202-907a-41f77f5a8e99",
   "metadata": {},
   "source": [
    "## Group by learning_mode and compute average engagement."
   ]
  },
  {
   "cell_type": "code",
   "execution_count": 23,
   "id": "fecb365a-3440-4c57-9989-1056e239944f",
   "metadata": {},
   "outputs": [
    {
     "name": "stdout",
     "output_type": "stream",
     "text": [
      "Visual Learner Mean Engagement Level : Moderate\n",
      "Auditory Learner Mean Engagement Level : Moderate\n",
      "Kinesthetic Learner Mean Engagement Level : Moderate\n"
     ]
    }
   ],
   "source": [
    "group_by_dated = data.groupby('Learning Mode Prediction')\n",
    "\n",
    "group_names = data['Learning Mode Prediction'].unique().tolist()\n",
    "\n",
    "\n",
    "\n",
    "mean_dic = {}\n",
    "for i in group_names:\n",
    " \n",
    "            if round(group_by_dated.get_group(i)['Engagement Level'].mean().tolist()) == 1:\n",
    "                check = 'Low'\n",
    "            elif round(group_by_dated.get_group(i)['Engagement Level'].mean().tolist()) == 2:\n",
    "                check = 'Moderate'\n",
    "            elif round(group_by_dated.get_group(i)['Engagement Level'].mean().tolist()) == 3:\n",
    "                check = 'High'\n",
    "            else:\n",
    "                check = 'Unknown'\n",
    "            mean_dic[f'{i} Mean Engagement Level'] = check\n",
    "for key , val in mean_dic.items():\n",
    "    print(f\"{key} : {val}\")"
   ]
  },
  {
   "cell_type": "code",
   "execution_count": 24,
   "id": "dcc1a53d-f599-4d1c-b259-5a05bceb4582",
   "metadata": {},
   "outputs": [
    {
     "data": {
      "image/png": "[encoded data removed]",
      "text/plain": [
       "<Figure size 640x480 with 1 Axes>"
      ]
     },
     "metadata": {},
     "output_type": "display_data"
    }
   ],
   "source": [
    "plt.close()\n",
    "\n",
    "sns.histplot(data = data , x = 'Learning Mode Prediction' )\n",
    "plt.show()"
   ]
  }
 ],
 "metadata": {
  "kernelspec": {
   "display_name": "Python 3 (ipykernel)",
   "language": "python",
   "name": "python3"
  },
  "language_info": {
   "codemirror_mode": {
    "name": "ipython",
    "version": 3
   },
   "file_extension": ".py",
   "mimetype": "text/x-python",
   "name": "python",
   "nbconvert_exporter": "python",
   "pygments_lexer": "ipython3",
   "version": "3.13.5"
  }
 },
 "nbformat": 4,
 "nbformat_minor": 5
}
