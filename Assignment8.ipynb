{
 "cells": [
  {
   "cell_type": "markdown",
   "id": "28b39a03-f091-4212-97f5-8155c3077be4",
   "metadata": {},
   "source": [
    "# Task\n"
   ]
  },
  {
   "cell_type": "markdown",
   "id": "99408800-5353-40a5-800c-6eaa4fd735cf",
   "metadata": {},
   "source": [
    "## Import Libraries"
   ]
  },
  {
   "cell_type": "code",
   "execution_count": 1,
   "id": "43486632-9d21-4eb1-88f8-0b3b924488e6",
   "metadata": {},
   "outputs": [],
   "source": [
    "import numpy as np\n",
    "import pandas as pd\n",
    "import matplotlib.pyplot as plt\n",
    "import seaborn as sns"
   ]
  },
  {
   "cell_type": "markdown",
   "id": "4022315c-6908-4c56-adde-9e87b7d28deb",
   "metadata": {},
   "source": [
    "## Import Data"
   ]
  },
  {
   "cell_type": "code",
   "execution_count": 2,
   "id": "427c0946-5afc-40b6-ab1c-379ede595742",
   "metadata": {},
   "outputs": [],
   "source": [
    "data  = pd.read_csv('student_engagement_data_10000.csv')"
   ]
  },
  {
   "cell_type": "markdown",
   "id": "96e218dd-3f3e-4dce-9bdf-0af13e3076a4",
   "metadata": {},
   "source": [
    "## Describe data using .info() method"
   ]
  },
  {
   "cell_type": "code",
   "execution_count": 3,
   "id": "2ab407f7-9262-43a8-ade0-b09d338267e8",
   "metadata": {},
   "outputs": [
    {
     "name": "stdout",
     "output_type": "stream",
     "text": [
      "<class 'pandas.core.frame.DataFrame'>\n",
      "RangeIndex: 10000 entries, 0 to 9999\n",
      "Data columns (total 10 columns):\n",
      " #   Column                    Non-Null Count  Dtype \n",
      "---  ------                    --------------  ----- \n",
      " 0   Student ID                10000 non-null  int64 \n",
      " 1   Session ID                10000 non-null  int64 \n",
      " 2   Date                      10000 non-null  object\n",
      " 3   EEG Data (PSD Features)   10000 non-null  object\n",
      " 4   Engagement Level          10000 non-null  object\n",
      " 5   Attention Level           10000 non-null  object\n",
      " 6   Internet Connectivity     10000 non-null  object\n",
      " 7   Adaptivity Level          10000 non-null  object\n",
      " 8   Learning Mode Prediction  10000 non-null  object\n",
      " 9   Performance Metrics       10000 non-null  int64 \n",
      "dtypes: int64(3), object(7)\n",
      "memory usage: 781.4+ KB\n"
     ]
    }
   ],
   "source": [
    "data.info()"
   ]
  },
  {
   "cell_type": "markdown",
   "id": "2bfb336d-c17c-4d8e-8917-b74ea4f7a0ad",
   "metadata": {},
   "source": [
    "## Describe data using .Describe() method"
   ]
  },
  {
   "cell_type": "code",
   "execution_count": 4,
   "id": "0d919e45-066b-43f5-8205-b1c7143ec463",
   "metadata": {},
   "outputs": [
    {
     "data": {
      "text/html": [
       "<div>\n",
       "<style scoped>\n",
       "    .dataframe tbody tr th:only-of-type {\n",
       "        vertical-align: middle;\n",
       "    }\n",
       "\n",
       "    .dataframe tbody tr th {\n",
       "        vertical-align: top;\n",
       "    }\n",
       "\n",
       "    .dataframe thead th {\n",
       "        text-align: right;\n",
       "    }\n",
       "</style>\n",
       "<table border=\"1\" class=\"dataframe\">\n",
       "  <thead>\n",
       "    <tr style=\"text-align: right;\">\n",
       "      <th></th>\n",
       "      <th>Student ID</th>\n",
       "      <th>Session ID</th>\n",
       "      <th>Performance Metrics</th>\n",
       "    </tr>\n",
       "  </thead>\n",
       "  <tbody>\n",
       "    <tr>\n",
       "      <th>count</th>\n",
       "      <td>10000.00000</td>\n",
       "      <td>10000.000000</td>\n",
       "      <td>10000.000000</td>\n",
       "    </tr>\n",
       "    <tr>\n",
       "      <th>mean</th>\n",
       "      <td>5000.50000</td>\n",
       "      <td>149.762700</td>\n",
       "      <td>74.674300</td>\n",
       "    </tr>\n",
       "    <tr>\n",
       "      <th>std</th>\n",
       "      <td>2886.89568</td>\n",
       "      <td>28.783232</td>\n",
       "      <td>14.383404</td>\n",
       "    </tr>\n",
       "    <tr>\n",
       "      <th>min</th>\n",
       "      <td>1.00000</td>\n",
       "      <td>100.000000</td>\n",
       "      <td>50.000000</td>\n",
       "    </tr>\n",
       "    <tr>\n",
       "      <th>25%</th>\n",
       "      <td>2500.75000</td>\n",
       "      <td>125.000000</td>\n",
       "      <td>62.000000</td>\n",
       "    </tr>\n",
       "    <tr>\n",
       "      <th>50%</th>\n",
       "      <td>5000.50000</td>\n",
       "      <td>150.000000</td>\n",
       "      <td>75.000000</td>\n",
       "    </tr>\n",
       "    <tr>\n",
       "      <th>75%</th>\n",
       "      <td>7500.25000</td>\n",
       "      <td>174.000000</td>\n",
       "      <td>87.000000</td>\n",
       "    </tr>\n",
       "    <tr>\n",
       "      <th>max</th>\n",
       "      <td>10000.00000</td>\n",
       "      <td>199.000000</td>\n",
       "      <td>99.000000</td>\n",
       "    </tr>\n",
       "  </tbody>\n",
       "</table>\n",
       "</div>"
      ],
      "text/plain": [
       "        Student ID    Session ID  Performance Metrics\n",
       "count  10000.00000  10000.000000         10000.000000\n",
       "mean    5000.50000    149.762700            74.674300\n",
       "std     2886.89568     28.783232            14.383404\n",
       "min        1.00000    100.000000            50.000000\n",
       "25%     2500.75000    125.000000            62.000000\n",
       "50%     5000.50000    150.000000            75.000000\n",
       "75%     7500.25000    174.000000            87.000000\n",
       "max    10000.00000    199.000000            99.000000"
      ]
     },
     "execution_count": 4,
     "metadata": {},
     "output_type": "execute_result"
    }
   ],
   "source": [
    "data.describe()"
   ]
  },
  {
   "cell_type": "markdown",
   "id": "026bf9c0-1fbf-4d3f-af23-6deef7407550",
   "metadata": {},
   "source": [
    "## Count nan Values in each coloumns"
   ]
  },
  {
   "cell_type": "code",
   "execution_count": 5,
   "id": "c8e120a0-2a67-401a-94fb-093860c49a63",
   "metadata": {},
   "outputs": [
    {
     "data": {
      "text/plain": [
       "Student ID                  0\n",
       "Session ID                  0\n",
       "Date                        0\n",
       "EEG Data (PSD Features)     0\n",
       "Engagement Level            0\n",
       "Attention Level             0\n",
       "Internet Connectivity       0\n",
       "Adaptivity Level            0\n",
       "Learning Mode Prediction    0\n",
       "Performance Metrics         0\n",
       "dtype: int64"
      ]
     },
     "execution_count": 5,
     "metadata": {},
     "output_type": "execute_result"
    }
   ],
   "source": [
    "data.isna().sum()"
   ]
  },
  {
   "cell_type": "markdown",
   "id": "565b6f21-be39-41a4-8b45-9521e44a4915",
   "metadata": {},
   "source": [
    "## Value counts of categorical columns like learning_mode, student_id, etc."
   ]
  },
  {
   "cell_type": "code",
   "execution_count": 6,
   "id": "9d3b0ece-8fd2-4cd3-9717-b118e73c8c32",
   "metadata": {},
   "outputs": [
    {
     "name": "stdout",
     "output_type": "stream",
     "text": [
      "Engagement Level Value Count High: 3277\n",
      "Engagement Level Value Count Low: 3366\n",
      "Engagement Level Value Count Moderate: 3357\n",
      "\n",
      "\n",
      "Attention Level Value Count High: 3317\n",
      "Attention Level Value Count Moderate: 3385\n",
      "Attention Level Value Count Low: 3298\n",
      "\n",
      "\n",
      "Internet Connectivity Value Count High (Mobile/Wi-Fi): 3321\n",
      "Internet Connectivity Value Count Moderate (Wi-Fi): 3389\n",
      "Internet Connectivity Value Count Low (Mobile): 3290\n",
      "\n",
      "\n",
      "Adaptivity Level Value Count Moderate: 3360\n",
      "Adaptivity Level Value Count High: 3309\n",
      "Adaptivity Level Value Count Low: 3331\n",
      "\n",
      "\n",
      "Learning Mode Prediction Value Count Visual Learner: 3300\n",
      "Learning Mode Prediction Value Count Auditory Learner: 3326\n",
      "Learning Mode Prediction Value Count Kinesthetic Learner: 3374\n"
     ]
    }
   ],
   "source": [
    "for i in data['Engagement Level'].unique():\n",
    "   print(f\"Engagement Level Value Count {i}: {data['Engagement Level'].tolist().count(i)}\")\n",
    "print()\n",
    "print()\n",
    "for i in data['Attention Level'].unique():\n",
    "   print(f\"Attention Level Value Count {i}: {data['Attention Level'].tolist().count(i)}\")\n",
    "print()\n",
    "print()\n",
    "for i in data['Internet Connectivity'].unique():\n",
    "   print(f\"Internet Connectivity Value Count {i}: {data['Internet Connectivity'].tolist().count(i)}\")\n",
    "print()\n",
    "print()\n",
    "for i in data['Adaptivity Level'].unique():\n",
    "   print(f\"Adaptivity Level Value Count {i}: {data['Adaptivity Level'].tolist().count(i)}\")\n",
    "print()\n",
    "print()\n",
    "for i in data['Learning Mode Prediction'].unique():\n",
    "   print(f\"Learning Mode Prediction Value Count {i}: {data['Learning Mode Prediction'].tolist().count(i)}\")\n"
   ]
  },
  {
   "cell_type": "markdown",
   "id": "04d5f489-2afe-4b59-a948-eb92441374fa",
   "metadata": {},
   "source": [
    "## Plot line charts for daily trends."
   ]
  },
  {
   "cell_type": "code",
   "execution_count": 7,
   "id": "3116b68f-19c6-4d37-8532-174c855250af",
   "metadata": {
    "scrolled": true
   },
   "outputs": [
    {
     "data": {
      "image/png": "[encoded data removed]",
      "text/plain": [
       "<Figure size 640x480 with 1 Axes>"
      ]
     },
     "metadata": {},
     "output_type": "display_data"
    }
   ],
   "source": [
    "plt.close()\n",
    "\n",
    "x = data['Performance Metrics']\n",
    "y = data['Date']\n",
    "\n",
    "plt.plot(x,y)\n",
    "plt.show()"
   ]
  },
  {
   "cell_type": "markdown",
   "id": "32e3c43a-70cd-42db-9021-849309fc221f",
   "metadata": {},
   "source": [
    "## A bar chart to compare modes."
   ]
  },
  {
   "cell_type": "code",
   "execution_count": 8,
   "id": "9db4d21b-9f0e-49c8-bfc9-9694f1207bcb",
   "metadata": {},
   "outputs": [
    {
     "data": {
      "image/png": "[encoded data removed]",
      "text/plain": [
       "<Figure size 640x480 with 1 Axes>"
      ]
     },
     "metadata": {},
     "output_type": "display_data"
    }
   ],
   "source": [
    "plt.close()\n",
    "\n",
    "sns.histplot(data = data , x = 'Learning Mode Prediction' )\n",
    "plt.show()"
   ]
  },
  {
   "cell_type": "markdown",
   "id": "6d521709-807c-43ec-a551-c4a3e543dba0",
   "metadata": {},
   "source": [
    "## Group by date and calculate average Attention Level and Engagement Level."
   ]
  },
  {
   "cell_type": "code",
   "execution_count": 9,
   "id": "52bf2e13-5b55-41da-8214-d5ad6dd74597",
   "metadata": {},
   "outputs": [
    {
     "name": "stdout",
     "output_type": "stream",
     "text": [
      "2025-01-20 Mean Attention Level : Moderate\n",
      "2025-01-20 Mean Engagement Level : Moderate\n",
      "2025-01-10 Mean Attention Level : Moderate\n",
      "2025-01-10 Mean Engagement Level : Moderate\n",
      "2025-01-18 Mean Attention Level : Moderate\n",
      "2025-01-18 Mean Engagement Level : Moderate\n",
      "2025-01-01 Mean Attention Level : Moderate\n",
      "2025-01-01 Mean Engagement Level : Moderate\n",
      "2025-01-11 Mean Attention Level : Moderate\n",
      "2025-01-11 Mean Engagement Level : Moderate\n",
      "2025-01-08 Mean Attention Level : Moderate\n",
      "2025-01-08 Mean Engagement Level : Moderate\n",
      "2025-01-02 Mean Attention Level : Moderate\n",
      "2025-01-02 Mean Engagement Level : Moderate\n",
      "2025-01-06 Mean Attention Level : Moderate\n",
      "2025-01-06 Mean Engagement Level : Moderate\n",
      "2025-01-21 Mean Attention Level : Moderate\n",
      "2025-01-21 Mean Engagement Level : Moderate\n",
      "2025-01-24 Mean Attention Level : Moderate\n",
      "2025-01-24 Mean Engagement Level : Moderate\n",
      "2025-01-25 Mean Attention Level : Moderate\n",
      "2025-01-25 Mean Engagement Level : Moderate\n",
      "2025-01-05 Mean Attention Level : Moderate\n",
      "2025-01-05 Mean Engagement Level : Moderate\n",
      "2025-01-26 Mean Attention Level : Moderate\n",
      "2025-01-26 Mean Engagement Level : Moderate\n",
      "2025-01-13 Mean Attention Level : Moderate\n",
      "2025-01-13 Mean Engagement Level : Moderate\n",
      "2025-01-22 Mean Attention Level : Moderate\n",
      "2025-01-22 Mean Engagement Level : Moderate\n",
      "2025-01-19 Mean Attention Level : Moderate\n",
      "2025-01-19 Mean Engagement Level : Moderate\n",
      "2025-01-07 Mean Attention Level : Moderate\n",
      "2025-01-07 Mean Engagement Level : Moderate\n",
      "2025-01-12 Mean Attention Level : Moderate\n",
      "2025-01-12 Mean Engagement Level : Moderate\n",
      "2025-01-14 Mean Attention Level : Moderate\n",
      "2025-01-14 Mean Engagement Level : Moderate\n",
      "2025-01-27 Mean Attention Level : Moderate\n",
      "2025-01-27 Mean Engagement Level : Moderate\n",
      "2025-01-17 Mean Attention Level : Moderate\n",
      "2025-01-17 Mean Engagement Level : Moderate\n",
      "2025-01-28 Mean Attention Level : Moderate\n",
      "2025-01-28 Mean Engagement Level : Moderate\n",
      "2025-01-04 Mean Attention Level : Moderate\n",
      "2025-01-04 Mean Engagement Level : Moderate\n",
      "2025-01-15 Mean Attention Level : Moderate\n",
      "2025-01-15 Mean Engagement Level : Moderate\n",
      "2025-01-16 Mean Attention Level : Moderate\n",
      "2025-01-16 Mean Engagement Level : Moderate\n",
      "2025-01-29 Mean Attention Level : Moderate\n",
      "2025-01-29 Mean Engagement Level : Moderate\n",
      "2025-01-09 Mean Attention Level : Moderate\n",
      "2025-01-09 Mean Engagement Level : Moderate\n",
      "2025-01-03 Mean Attention Level : Moderate\n",
      "2025-01-03 Mean Engagement Level : Moderate\n",
      "2025-01-30 Mean Attention Level : Moderate\n",
      "2025-01-30 Mean Engagement Level : Moderate\n",
      "2025-01-23 Mean Attention Level : Moderate\n",
      "2025-01-23 Mean Engagement Level : Moderate\n"
     ]
    }
   ],
   "source": [
    "def masking(value):\n",
    "    if value == 'Low':\n",
    "        return 1\n",
    "    elif value == 'Moderate':\n",
    "        return 2\n",
    "    elif value == 'High':\n",
    "        return 3\n",
    "    else:\n",
    "        return 0\n",
    "\n",
    "\n",
    "\n",
    "data['Engagement Level num'] = data['Engagement Level'].apply(masking)\n",
    "data['Attention Level num'] = data['Attention Level'].apply(masking)\n",
    "data['Adaptivity Level num'] = data['Adaptivity Level'].apply(masking)\n",
    "\n",
    "data.drop('Engagement Level' , axis = 1  , inplace = True)\n",
    "data.drop('Attention Level' , axis = 1  , inplace = True)\n",
    "data.drop('Adaptivity Level' , axis = 1  , inplace = True)\n",
    "\n",
    "data.rename(columns = {'Engagement Level num':'Engagement Level'} , inplace = True)\n",
    "data.rename(columns = {'Attention Level num':'Attention Level'} , inplace = True)\n",
    "data.rename(columns = {'Adaptivity Level num':'Adaptivity Level'} , inplace = True)\n",
    "\n",
    "group_by_dated = data.groupby('Date')\n",
    "\n",
    "group_names = data['Date'].unique().tolist()\n",
    "\n",
    "\n",
    "\n",
    "mean_dic = {}\n",
    "for i in group_names:\n",
    "    for a in range(1,3):\n",
    "        if a == 1:\n",
    "            if round(group_by_dated.get_group(i)['Attention Level'].mean().tolist()) == 1:\n",
    "                check = 'Low'\n",
    "            elif round(group_by_dated.get_group(i)['Attention Level'].mean().tolist()) == 2:\n",
    "                check = 'Moderate'\n",
    "            elif round(group_by_dated.get_group(i)['Attention Level'].mean().tolist()) == 3:\n",
    "                check = 'High'\n",
    "            else:\n",
    "                check = 'Unknown'\n",
    "            mean_dic[f'{i} Mean Attention Level'] = check\n",
    "            \n",
    "        else:\n",
    "            if round(group_by_dated.get_group(i)['Engagement Level'].mean().tolist()) == 1:\n",
    "                check = 'Low'\n",
    "            elif round(group_by_dated.get_group(i)['Engagement Level'].mean().tolist()) == 2:\n",
    "                check = 'Moderate'\n",
    "            elif round(group_by_dated.get_group(i)['Engagement Level'].mean().tolist()) == 3:\n",
    "                check = 'High'\n",
    "            else:\n",
    "                check = 'Unknown'\n",
    "            mean_dic[f'{i} Mean Engagement Level'] = check\n",
    "for key , val in mean_dic.items():\n",
    "    print(f\"{key} : {val}\")"
   ]
  },
  {
   "cell_type": "markdown",
   "id": "d60957c7-210f-4202-907a-41f77f5a8e99",
   "metadata": {},
   "source": [
    "## Group by learning_mode and compute average engagement."
   ]
  },
  {
   "cell_type": "code",
   "execution_count": 10,
   "id": "fecb365a-3440-4c57-9989-1056e239944f",
   "metadata": {},
   "outputs": [
    {
     "name": "stdout",
     "output_type": "stream",
     "text": [
      "Visual Learner Mean Engagement Level : Moderate\n",
      "Auditory Learner Mean Engagement Level : Moderate\n",
      "Kinesthetic Learner Mean Engagement Level : Moderate\n"
     ]
    }
   ],
   "source": [
    "group_by_dated = data.groupby('Learning Mode Prediction')\n",
    "\n",
    "group_names = data['Learning Mode Prediction'].unique().tolist()\n",
    "\n",
    "\n",
    "\n",
    "mean_dic = {}\n",
    "for i in group_names:\n",
    " \n",
    "            if round(group_by_dated.get_group(i)['Engagement Level'].mean().tolist()) == 1:\n",
    "                check = 'Low'\n",
    "            elif round(group_by_dated.get_group(i)['Engagement Level'].mean().tolist()) == 2:\n",
    "                check = 'Moderate'\n",
    "            elif round(group_by_dated.get_group(i)['Engagement Level'].mean().tolist()) == 3:\n",
    "                check = 'High'\n",
    "            else:\n",
    "                check = 'Unknown'\n",
    "            mean_dic[f'{i} Mean Engagement Level'] = check\n",
    "for key , val in mean_dic.items():\n",
    "    print(f\"{key} : {val}\")"
   ]
  }
 ],
 "metadata": {
  "kernelspec": {
   "display_name": "Python 3 (ipykernel)",
   "language": "python",
   "name": "python3"
  },
  "language_info": {
   "codemirror_mode": {
    "name": "ipython",
    "version": 3
   },
   "file_extension": ".py",
   "mimetype": "text/x-python",
   "name": "python",
   "nbconvert_exporter": "python",
   "pygments_lexer": "ipython3",
   "version": "3.13.5"
  }
 },
 "nbformat": 4,
 "nbformat_minor": 5
}
